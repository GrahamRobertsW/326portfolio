{
 "cells": [
  {
   "cell_type": "markdown",
   "metadata": {},
   "source": [
    "#Lab 3\n",
    "##Graham Roberts\n",
    "###8 January 2016"
   ]
  },
  {
   "cell_type": "code",
   "execution_count": 4,
   "metadata": {
    "collapsed": true
   },
   "outputs": [],
   "source": [
    "import numpy as np\n",
    "from matplotlib import pyplot as plt\n",
    "from scipy import integrate as intgrt\n",
    "import math\n",
    "%matplotlib inline"
   ]
  },
  {
   "cell_type": "code",
   "execution_count": 28,
   "metadata": {
    "collapsed": false
   },
   "outputs": [],
   "source": [
    "class dataFrame326(object):\n",
    "    \n",
    "    #def __calcAverage(self, **kwargs): \n",
    "    #    if kwargs is not None:\n",
    "    #        for key, value in kwargs.iteritems():\n",
    "    #            if (key=='delta' and value==True):\n",
    "    #                return np.sum(self.__uncertainties)/len(self.__uncertainties)\n",
    "    #            else:\n",
    "    #                return np.sum(self.__measurements)/len(self.__measurements)\n",
    "    #    else:\n",
    "    #    return np.sum(self.__measurements)/len(self.__measurements)\n",
    "    \n",
    "    def __calcAverage(self, **kwargs):\n",
    "       if ('delta' in kwargs) and kwargs['delta']==True:\n",
    "            return np.sum(self.__uncertainties)/len(self.__uncertainties)\n",
    "       else:\n",
    "            print np.sum(self.__measurements)/len(self.__measurements)\n",
    "            return np.sum(self.__measurements)/len(self.__measurements)\n",
    "   \n",
    "        \n",
    "    #def __calcSD(self, **kwargs):   \n",
    "    #    meanSquared, denominator = 1,1\n",
    "    #    if kwargs is not None:\n",
    "    #        for key,value in kwargs.iteritems():\n",
    "    #            if (key=='delta' and value==True):\n",
    "    #                meanSquared=np.sum([(i-self.__delta_av)**2 for i in self.__uncertainties])\n",
    "    #                denominator=len(self.__uncertainties)-1\n",
    "    #            else:\n",
    "    #                meanSquared=np.sum([(i-self.__av)**2 for i in self.__measurements])\n",
    "    #                denominator=len(self.__measurements)-1\n",
    "    #    else:\n",
    "    #        meanSquared=np.sum([(i-self.__av)**2 for i in self.__measurements])\n",
    "    #        denominator=len(self.__measurements)-1\n",
    "    #    return np.sqrt(meanSquared/denominator)\n",
    "    \n",
    "    def __calcSD(self, **kwargs):\n",
    "        meanSquared, denominator = 1,1\n",
    "        if ('delta' in kwargs) and kwargs['delta']==True:\n",
    "             meanSquared=np.sum([(i-self.__delta_av)**2 for i in self.__uncertainties])\n",
    "             denominator=len(self.__uncertainties)-1\n",
    "        else:\n",
    "            meanSquared=np.sum([(i-self.__av)**2 for i in self.__measurements])\n",
    "            denominator=len(self.__measurements)-1\n",
    "        return np.sqrt(meanSquared/denominator)\n",
    "            \n",
    "        \n",
    "        return np.sqrt(np.sum([(i-calcAverage(arrayLike))**2 for i in arrayLike])/(len(arrayLike)-1))\n",
    "    \n",
    "    def __calcWAV(self):\n",
    "       weights=np.zeros(len(self.__measurements))\n",
    "       for i in range (0,len(self.__measurements)):\n",
    "          if self.__uncertainties[i]!=0:\n",
    "             weights[i]=1./(self.__uncertainties[i])**2\n",
    "          else:\n",
    "             weights[i]=1./((self.__sd)**2)\n",
    "       return float(np.sum(self.__measurements*weights))/np.sum(weights), 1./np.sqrt(np.sum(weights))\n",
    "   \n",
    "\n",
    "    def __init__(self, measurements, uncertainties):\n",
    "        self.__measurements=measurements\n",
    "        self.__uncertainties=uncertainties\n",
    "        self.__av=self.__calcAverage()\n",
    "        self.__delta_av=self.__calcAverage(delta=True)\n",
    "        self.__sd=self.__calcSD()\n",
    "        self.__delta_sd=self.__calcSD(delta=True)\n",
    "        self.__wav=self.__calcWAV()\n",
    "        self.__min=min(measurements)\n",
    "        self.__delta_min=min(uncertainties)\n",
    "        self.__max=max(measurements)\n",
    "        self.__delta_max=max(uncertainties)\n",
    "        \n",
    "    #def mean(self,**kwargs):\n",
    "    #    print self.__av\n",
    "    #    if kwargs is not None:\n",
    "    #        for key, values in kwargs.iteritems():\n",
    "    #            if (key==delta and value==True):\n",
    "    #                return self.__delta_av\n",
    "    #            else:\n",
    "    #                return self.__av\n",
    "    #    else:\n",
    "    #        return self.__av\n",
    "        \n",
    "        \n",
    "    def mean(self, **kwargs):\n",
    "        if('delta' in kwargs) and kwargs['delta']==True:\n",
    "            return self.__delta_av\n",
    "        else:\n",
    "                    return self.__av\n",
    "        \n",
    "    #def sd(self,**kwargs):\n",
    "    #    if kwargs is not None:\n",
    "    #        for key, value in kwargs.iteritems():\n",
    "    #            if (key==delta and value==True):\n",
    "    #                return self._delta_sd\n",
    "    #            else:\n",
    "    #                return self.__sd\n",
    "    #    else:\n",
    "    #                return self.__sd\n",
    "            \n",
    "    def sd(self, **kwargs):\n",
    "       if ('delta' in kwargs) and kwargs['delta'] ==True:\n",
    "          return self.__delta_sd\n",
    "       else:\n",
    "                    return self.__sd\n",
    "        \n",
    "        \n",
    "    def wav(self):\n",
    "        return self.__wav[0], self.__wav[1]\n",
    "    \n",
    "    def min(self,**kwargs):\n",
    "        if ('delta' in kwargs) and kwargs['delta'] ==True:\n",
    "            return self.__delta_min\n",
    "        else:\n",
    "            return self.__min\n",
    "        \n",
    "    def max(self,**kwargs):\n",
    "        if ('delta' in kwargs) and kwargs['delta'] ==True:\n",
    "            return self.__delta_max\n",
    "        else:\n",
    "            return self.__max\n",
    "    \n",
    "    def retrieve(self, **kwargs):\n",
    "        if ('delta' in kwargs) and kwargs['delta'] ==True:\n",
    "            return self.__uncertainties\n",
    "        else:\n",
    "            return self.__measurements\n",
    "\n",
    "    def Gaussian(self, **kwargs):\n",
    "       normalizationFactor=0\n",
    "       if ('delta' in kwargs) and kwargs['delta']==True:\n",
    "          sequence=np.linspace(int(self.min(delta=True)-1),int(self.max(delta=True)+1),1000)\n",
    "          normalizationFactor=1./(np.sqrt(2.*np.pi)*self.sd(delta=True))\n",
    "          exponent=(-((sequence-self.mean(delta=True))**2)/(2.*(self.sd(delta=True)**2)))\n",
    "       else:\n",
    "          sequence=np.linspace(int(self.__min-1),int(self.__max+1),1000)\n",
    "          normalizationFactor=1./(np.sqrt(2.*np.pi)*self.__sd)\n",
    "          exponent=(-((sequence-self.__av)**2)/(2.*(self.__sd**2))) \n",
    "       Gauss = normalizationFactor*np.exp(exponent)\n",
    "       return sequence, Gauss"
   ]
  },
  {
   "cell_type": "code",
   "execution_count": 29,
   "metadata": {
    "collapsed": false
   },
   "outputs": [
    {
     "name": "stdout",
     "output_type": "stream",
     "text": [
      "53.5259701493\n",
      "1.34014925373\n",
      "53.5259701493\n",
      "0.558130156704\n",
      "(53.641897286959406, 0.00092817718694005293)\n"
     ]
    }
   ],
   "source": [
    "diameter, diameterDelta = np.loadtxt(\"diameter.txt\",skiprows=1,unpack=True)\n",
    "m, massDelta = np.loadtxt(\"mass.txt\",skiprows=1,unpack=True)\n",
    "#print(diameter)\n",
    "d = dataFrame326(diameter, diameterDelta)\n",
    "mass = dataFrame326(m, massDelta)\n",
    "print d.mean()\n",
    "print d.sd()\n",
    "print d.wav()"
   ]
  },
  {
   "cell_type": "code",
   "execution_count": 30,
   "metadata": {
    "collapsed": false
   },
   "outputs": [],
   "source": [
    "def calcGaussian(arrayLike,sequence):\n",
    "    mean=calcAverage(arrayLike)\n",
    "    SD=calcSD(arrayLike)\n",
    "    normalizationFactor=1./(np.sqrt(2.*np.pi)*SD)\n",
    "    exponent=(-((sequence-mean)**2)/(2.*(SD**2)))\n",
    "    print intgrt.romb(np.e**exponent*normalizationFactor)\n",
    "    print normalizationFactor\n",
    "    return normalizationFactor*np.e**exponent"
   ]
  },
  {
   "cell_type": "code",
   "execution_count": 31,
   "metadata": {
    "collapsed": false
   },
   "outputs": [],
   "source": [
    "def Gaussian(dataFrame, **kwargs):\n",
    "    normalizationFactor=0\n",
    "    if ('delta' in kwargs) and kwargs['delta']==True:\n",
    "       sequence=np.linspace(int(dataFrame.min(delta=True)-1),int(dataFrame.max(delta=True)+1),1000)\n",
    "       normalizationFactor=1./(np.sqrt(2.*np.pi)*dataFrame.sd(delta=True))\n",
    "       exponent=(-((sequence-dataFrame.mean(delta=True))**2)/(2.*(dataFrame.sd(delta=True)**2)))\n",
    "                 \n",
    "    else:\n",
    "       print int(dataFrame.min(delta=False))\n",
    "       print int(dataFrame.max(delta=False)+1)\n",
    "       sequence=np.linspace(int(dataFrame.min(delta=False)-1),int(dataFrame.max(delta=False)+1),1000)\n",
    "       normalizationFactor=1./(np.sqrt(2.*np.pi)*dataFrame.sd(delta=False))\n",
    "       exponent=-((sequence-dataFrame.mean(delta=False))**2)/(2.*(dataFrame.sd(delta=False)**2))\n",
    "    Gauss = normalizationFactor*np.exp(exponent)\n",
    "    return sequence, Gauss"
   ]
  },
  {
   "cell_type": "code",
   "execution_count": 32,
   "metadata": {
    "collapsed": false
   },
   "outputs": [],
   "source": [
    "def Gaussian(self, **kwargs):\n",
    "    normalizationFactor=0\n",
    "    if ('delta' in kwargs) and kwargs['delta']==True:\n",
    "       sequence=np.linspace(int(self.__delta_min-1),int(self.__delta_max+1),1000)\n",
    "       normalizationFactor=1./(np.sqrt(2.*np.pi)*self.__delta_sd)\n",
    "       exponent=(-((sequence-self.__delta_av)**2)/(2.*(self.__delta_sd**2)))\n",
    "    else:\n",
    "       sequence=np.linspace(int(self.__min-1),int(self.__max+1),1000)\n",
    "       normalizationFactor=1./(np.sqrt(2.*np.pi)*self.__sd)\n",
    "       exponent=(-((sequence-self.__av)**2)/(2.*(self.__sd**2)))    "
   ]
  },
  {
   "cell_type": "code",
   "execution_count": 33,
   "metadata": {
    "collapsed": false
   },
   "outputs": [],
   "source": [
    "def calcBreaks(dataFrame, **kwargs):\n",
    "    upper=[]\n",
    "    lower=[]\n",
    "    if ('delta' in kwargs) and kwargs['delta']==True:\n",
    "        values=dataFrame.retrieve(delta=True)\n",
    "        sd=dataFrame.sd(delta=True)\n",
    "        mean=dataFrame.mean(delta=True)\n",
    "        min=dataFrame.min(delta=True)\n",
    "        max=dataFrame.max(delta=True)\n",
    "    else:\n",
    "        values=dataFrame.retrieve(delta=False)\n",
    "        sd=dataFrame.sd(delta=False)\n",
    "        mean=dataFrame.mean(delta=False)\n",
    "        min=dataFrame.min(delta=False)\n",
    "        max=dataFrame.max(delta=False)\n",
    "    upper.append(mean+sd/2.)\n",
    "    lower.append(mean-sd/2.)\n",
    "    i=mean+sd/2.\n",
    "    while i < max:\n",
    "        j=i+sd\n",
    "        upper=upper+[j]\n",
    "        i=j\n",
    "        \n",
    "        \n",
    "    i=mean-sd/2.\n",
    "    while i > min:\n",
    "        j=i-sd\n",
    "        lower=lower+[j]\n",
    "        i=j\n",
    "    lower=list(reversed(lower))\n",
    "    print mean\n",
    "    print lower\n",
    "    print upper\n",
    "    return np.array(lower+upper)"
   ]
  },
  {
   "cell_type": "code",
   "execution_count": 34,
   "metadata": {
    "collapsed": false
   },
   "outputs": [
    {
     "name": "stdout",
     "output_type": "stream",
     "text": [
      "50.0\n",
      "0.490089552239\n",
      "[-0.95093512417937842, 0.0097479934327445172]\n",
      "[0.97043111104486734, 1.9311142286569902, 2.8917973462691133, 3.8524804638812364, 4.8131635814933595, 5.7738466991054826]\n"
     ]
    },
    {
     "ename": "AttributeError",
     "evalue": "'dataFrame326' object has no attribute '__delta_min'",
     "output_type": "error",
     "traceback": [
      "\u001b[1;31m---------------------------------------------------------------------------\u001b[0m",
      "\u001b[1;31mAttributeError\u001b[0m                            Traceback (most recent call last)",
      "\u001b[1;32m<ipython-input-34-639a027e8c6b>\u001b[0m in \u001b[0;36m<module>\u001b[1;34m()\u001b[0m\n\u001b[0;32m      1\u001b[0m \u001b[1;32mprint\u001b[0m \u001b[0md\u001b[0m\u001b[1;33m.\u001b[0m\u001b[0mmin\u001b[0m\u001b[1;33m(\u001b[0m\u001b[1;33m)\u001b[0m\u001b[1;33m\u001b[0m\u001b[0m\n\u001b[0;32m      2\u001b[0m \u001b[0mplt\u001b[0m\u001b[1;33m.\u001b[0m\u001b[0mhist\u001b[0m\u001b[1;33m(\u001b[0m\u001b[0md\u001b[0m\u001b[1;33m.\u001b[0m\u001b[0mretrieve\u001b[0m\u001b[1;33m(\u001b[0m\u001b[0mdelta\u001b[0m\u001b[1;33m=\u001b[0m\u001b[0mTrue\u001b[0m\u001b[1;33m)\u001b[0m\u001b[1;33m,\u001b[0m\u001b[0mcalcBreaks\u001b[0m\u001b[1;33m(\u001b[0m\u001b[0md\u001b[0m\u001b[1;33m,\u001b[0m\u001b[0mdelta\u001b[0m\u001b[1;33m=\u001b[0m\u001b[0mTrue\u001b[0m\u001b[1;33m)\u001b[0m\u001b[1;33m,\u001b[0m\u001b[0mnormed\u001b[0m\u001b[1;33m=\u001b[0m\u001b[0mTrue\u001b[0m\u001b[1;33m)\u001b[0m\u001b[1;33m\u001b[0m\u001b[0m\n\u001b[1;32m----> 3\u001b[1;33m \u001b[0mplt\u001b[0m\u001b[1;33m.\u001b[0m\u001b[0mplot\u001b[0m\u001b[1;33m(\u001b[0m\u001b[0mGaussian\u001b[0m\u001b[1;33m(\u001b[0m\u001b[0md\u001b[0m\u001b[1;33m,\u001b[0m\u001b[0mdelta\u001b[0m\u001b[1;33m=\u001b[0m\u001b[0mTrue\u001b[0m\u001b[1;33m)\u001b[0m\u001b[1;33m[\u001b[0m\u001b[1;36m0\u001b[0m\u001b[1;33m]\u001b[0m\u001b[1;33m,\u001b[0m\u001b[0mGaussian\u001b[0m\u001b[1;33m(\u001b[0m\u001b[0md\u001b[0m\u001b[1;33m,\u001b[0m\u001b[0mdelta\u001b[0m\u001b[1;33m=\u001b[0m\u001b[0mTrue\u001b[0m\u001b[1;33m)\u001b[0m\u001b[1;33m[\u001b[0m\u001b[1;36m1\u001b[0m\u001b[1;33m]\u001b[0m\u001b[1;33m,\u001b[0m\u001b[1;34m'r-'\u001b[0m\u001b[1;33m)\u001b[0m\u001b[1;33m\u001b[0m\u001b[0m\n\u001b[0m\u001b[0;32m      4\u001b[0m \u001b[0mplt\u001b[0m\u001b[1;33m.\u001b[0m\u001b[0mplot\u001b[0m\u001b[1;33m(\u001b[0m\u001b[0md\u001b[0m\u001b[1;33m.\u001b[0m\u001b[0mGaussian\u001b[0m\u001b[1;33m(\u001b[0m\u001b[1;33m)\u001b[0m\u001b[1;33m[\u001b[0m\u001b[1;36m0\u001b[0m\u001b[1;33m]\u001b[0m\u001b[1;33m,\u001b[0m\u001b[0md\u001b[0m\u001b[1;33m.\u001b[0m\u001b[0mGaussian\u001b[0m\u001b[1;33m(\u001b[0m\u001b[1;33m)\u001b[0m\u001b[1;33m[\u001b[0m\u001b[1;36m1\u001b[0m\u001b[1;33m]\u001b[0m\u001b[1;33m,\u001b[0m\u001b[1;34m'm'\u001b[0m\u001b[1;33m)\u001b[0m\u001b[1;33m\u001b[0m\u001b[0m\n",
      "\u001b[1;32m<ipython-input-32-d5a6e1d10443>\u001b[0m in \u001b[0;36mGaussian\u001b[1;34m(self, **kwargs)\u001b[0m\n\u001b[0;32m      2\u001b[0m     \u001b[0mnormalizationFactor\u001b[0m\u001b[1;33m=\u001b[0m\u001b[1;36m0\u001b[0m\u001b[1;33m\u001b[0m\u001b[0m\n\u001b[0;32m      3\u001b[0m     \u001b[1;32mif\u001b[0m \u001b[1;33m(\u001b[0m\u001b[1;34m'delta'\u001b[0m \u001b[1;32min\u001b[0m \u001b[0mkwargs\u001b[0m\u001b[1;33m)\u001b[0m \u001b[1;32mand\u001b[0m \u001b[0mkwargs\u001b[0m\u001b[1;33m[\u001b[0m\u001b[1;34m'delta'\u001b[0m\u001b[1;33m]\u001b[0m\u001b[1;33m==\u001b[0m\u001b[0mTrue\u001b[0m\u001b[1;33m:\u001b[0m\u001b[1;33m\u001b[0m\u001b[0m\n\u001b[1;32m----> 4\u001b[1;33m        \u001b[0msequence\u001b[0m\u001b[1;33m=\u001b[0m\u001b[0mnp\u001b[0m\u001b[1;33m.\u001b[0m\u001b[0mlinspace\u001b[0m\u001b[1;33m(\u001b[0m\u001b[0mint\u001b[0m\u001b[1;33m(\u001b[0m\u001b[0mself\u001b[0m\u001b[1;33m.\u001b[0m\u001b[0m__delta_min\u001b[0m\u001b[1;33m-\u001b[0m\u001b[1;36m1\u001b[0m\u001b[1;33m)\u001b[0m\u001b[1;33m,\u001b[0m\u001b[0mint\u001b[0m\u001b[1;33m(\u001b[0m\u001b[0mself\u001b[0m\u001b[1;33m.\u001b[0m\u001b[0m__delta_max\u001b[0m\u001b[1;33m+\u001b[0m\u001b[1;36m1\u001b[0m\u001b[1;33m)\u001b[0m\u001b[1;33m,\u001b[0m\u001b[1;36m1000\u001b[0m\u001b[1;33m)\u001b[0m\u001b[1;33m\u001b[0m\u001b[0m\n\u001b[0m\u001b[0;32m      5\u001b[0m        \u001b[0mnormalizationFactor\u001b[0m\u001b[1;33m=\u001b[0m\u001b[1;36m1.\u001b[0m\u001b[1;33m/\u001b[0m\u001b[1;33m(\u001b[0m\u001b[0mnp\u001b[0m\u001b[1;33m.\u001b[0m\u001b[0msqrt\u001b[0m\u001b[1;33m(\u001b[0m\u001b[1;36m2.\u001b[0m\u001b[1;33m*\u001b[0m\u001b[0mnp\u001b[0m\u001b[1;33m.\u001b[0m\u001b[0mpi\u001b[0m\u001b[1;33m)\u001b[0m\u001b[1;33m*\u001b[0m\u001b[0mself\u001b[0m\u001b[1;33m.\u001b[0m\u001b[0m__delta_sd\u001b[0m\u001b[1;33m)\u001b[0m\u001b[1;33m\u001b[0m\u001b[0m\n\u001b[0;32m      6\u001b[0m        \u001b[0mexponent\u001b[0m\u001b[1;33m=\u001b[0m\u001b[1;33m(\u001b[0m\u001b[1;33m-\u001b[0m\u001b[1;33m(\u001b[0m\u001b[1;33m(\u001b[0m\u001b[0msequence\u001b[0m\u001b[1;33m-\u001b[0m\u001b[0mself\u001b[0m\u001b[1;33m.\u001b[0m\u001b[0m__delta_av\u001b[0m\u001b[1;33m)\u001b[0m\u001b[1;33m**\u001b[0m\u001b[1;36m2\u001b[0m\u001b[1;33m)\u001b[0m\u001b[1;33m/\u001b[0m\u001b[1;33m(\u001b[0m\u001b[1;36m2.\u001b[0m\u001b[1;33m*\u001b[0m\u001b[1;33m(\u001b[0m\u001b[0mself\u001b[0m\u001b[1;33m.\u001b[0m\u001b[0m__delta_sd\u001b[0m\u001b[1;33m**\u001b[0m\u001b[1;36m2\u001b[0m\u001b[1;33m)\u001b[0m\u001b[1;33m)\u001b[0m\u001b[1;33m)\u001b[0m\u001b[1;33m\u001b[0m\u001b[0m\n",
      "\u001b[1;31mAttributeError\u001b[0m: 'dataFrame326' object has no attribute '__delta_min'"
     ]
    },
    {
     "data": {
      "image/png": "[encoded data removed]",
      "text/plain": [
       "<matplotlib.figure.Figure at 0x94a1748>"
      ]
     },
     "metadata": {},
     "output_type": "display_data"
    }
   ],
   "source": [
    "print d.min()\n",
    "plt.hist(d.retrieve(delta=True),calcBreaks(d,delta=True),normed=True)\n",
    "plt.plot(Gaussian(d,delta=True)[0],Gaussian(d,delta=True)[1],'r-')\n",
    "plt.plot(d.Gaussian()[0],d.Gaussian()[1],'m')"
   ]
  },
  {
   "cell_type": "code",
   "execution_count": 48,
   "metadata": {
    "collapsed": false
   },
   "outputs": [
    {
     "ename": "AttributeError",
     "evalue": "'dataFrame326' object has no attribute '__min'",
     "output_type": "error",
     "traceback": [
      "\u001b[1;31m---------------------------------------------------------------------------\u001b[0m",
      "\u001b[1;31mAttributeError\u001b[0m                            Traceback (most recent call last)",
      "\u001b[1;32m<ipython-input-48-d4c45191f77a>\u001b[0m in \u001b[0;36m<module>\u001b[1;34m()\u001b[0m\n\u001b[0;32m      1\u001b[0m \u001b[0mplt\u001b[0m\u001b[1;33m.\u001b[0m\u001b[0mhist\u001b[0m\u001b[1;33m(\u001b[0m\u001b[0md\u001b[0m\u001b[1;33m.\u001b[0m\u001b[0mretrieve\u001b[0m\u001b[1;33m(\u001b[0m\u001b[1;33m)\u001b[0m\u001b[1;33m,\u001b[0m\u001b[1;36m15\u001b[0m\u001b[1;33m,\u001b[0m\u001b[0mnormed\u001b[0m\u001b[1;33m=\u001b[0m\u001b[0mTrue\u001b[0m\u001b[1;33m)\u001b[0m\u001b[1;33m\u001b[0m\u001b[0m\n\u001b[1;32m----> 2\u001b[1;33m \u001b[0mplt\u001b[0m\u001b[1;33m.\u001b[0m\u001b[0mplot\u001b[0m\u001b[1;33m(\u001b[0m\u001b[0mGaussian\u001b[0m\u001b[1;33m(\u001b[0m\u001b[0md\u001b[0m\u001b[1;33m)\u001b[0m\u001b[1;33m[\u001b[0m\u001b[1;36m0\u001b[0m\u001b[1;33m]\u001b[0m\u001b[1;33m,\u001b[0m\u001b[0mGaussian\u001b[0m\u001b[1;33m(\u001b[0m\u001b[0md\u001b[0m\u001b[1;33m)\u001b[0m\u001b[1;33m[\u001b[0m\u001b[1;36m1\u001b[0m\u001b[1;33m]\u001b[0m\u001b[1;33m,\u001b[0m\u001b[1;34m'r-'\u001b[0m\u001b[1;33m)\u001b[0m\u001b[1;33m\u001b[0m\u001b[0m\n\u001b[0m\u001b[0;32m      3\u001b[0m \u001b[0mplt\u001b[0m\u001b[1;33m.\u001b[0m\u001b[0mplot\u001b[0m\u001b[1;33m(\u001b[0m\u001b[0md\u001b[0m\u001b[1;33m.\u001b[0m\u001b[0mGaussian\u001b[0m\u001b[1;33m(\u001b[0m\u001b[1;33m)\u001b[0m\u001b[1;33m[\u001b[0m\u001b[1;36m0\u001b[0m\u001b[1;33m]\u001b[0m\u001b[1;33m,\u001b[0m\u001b[0mGaussian\u001b[0m\u001b[1;33m(\u001b[0m\u001b[1;33m)\u001b[0m\u001b[1;33m[\u001b[0m\u001b[1;36m1\u001b[0m\u001b[1;33m]\u001b[0m\u001b[1;33m,\u001b[0m\u001b[1;34m'm'\u001b[0m\u001b[1;33m)\u001b[0m\u001b[1;33m\u001b[0m\u001b[0m\n",
      "\u001b[1;32m<ipython-input-45-d5a6e1d10443>\u001b[0m in \u001b[0;36mGaussian\u001b[1;34m(self, **kwargs)\u001b[0m\n\u001b[0;32m      6\u001b[0m        \u001b[0mexponent\u001b[0m\u001b[1;33m=\u001b[0m\u001b[1;33m(\u001b[0m\u001b[1;33m-\u001b[0m\u001b[1;33m(\u001b[0m\u001b[1;33m(\u001b[0m\u001b[0msequence\u001b[0m\u001b[1;33m-\u001b[0m\u001b[0mself\u001b[0m\u001b[1;33m.\u001b[0m\u001b[0m__delta_av\u001b[0m\u001b[1;33m)\u001b[0m\u001b[1;33m**\u001b[0m\u001b[1;36m2\u001b[0m\u001b[1;33m)\u001b[0m\u001b[1;33m/\u001b[0m\u001b[1;33m(\u001b[0m\u001b[1;36m2.\u001b[0m\u001b[1;33m*\u001b[0m\u001b[1;33m(\u001b[0m\u001b[0mself\u001b[0m\u001b[1;33m.\u001b[0m\u001b[0m__delta_sd\u001b[0m\u001b[1;33m**\u001b[0m\u001b[1;36m2\u001b[0m\u001b[1;33m)\u001b[0m\u001b[1;33m)\u001b[0m\u001b[1;33m)\u001b[0m\u001b[1;33m\u001b[0m\u001b[0m\n\u001b[0;32m      7\u001b[0m     \u001b[1;32melse\u001b[0m\u001b[1;33m:\u001b[0m\u001b[1;33m\u001b[0m\u001b[0m\n\u001b[1;32m----> 8\u001b[1;33m        \u001b[0msequence\u001b[0m\u001b[1;33m=\u001b[0m\u001b[0mnp\u001b[0m\u001b[1;33m.\u001b[0m\u001b[0mlinspace\u001b[0m\u001b[1;33m(\u001b[0m\u001b[0mint\u001b[0m\u001b[1;33m(\u001b[0m\u001b[0mself\u001b[0m\u001b[1;33m.\u001b[0m\u001b[0m__min\u001b[0m\u001b[1;33m-\u001b[0m\u001b[1;36m1\u001b[0m\u001b[1;33m)\u001b[0m\u001b[1;33m,\u001b[0m\u001b[0mint\u001b[0m\u001b[1;33m(\u001b[0m\u001b[0mself\u001b[0m\u001b[1;33m.\u001b[0m\u001b[0m__max\u001b[0m\u001b[1;33m+\u001b[0m\u001b[1;36m1\u001b[0m\u001b[1;33m)\u001b[0m\u001b[1;33m,\u001b[0m\u001b[1;36m1000\u001b[0m\u001b[1;33m)\u001b[0m\u001b[1;33m\u001b[0m\u001b[0m\n\u001b[0m\u001b[0;32m      9\u001b[0m        \u001b[0mnormalizationFactor\u001b[0m\u001b[1;33m=\u001b[0m\u001b[1;36m1.\u001b[0m\u001b[1;33m/\u001b[0m\u001b[1;33m(\u001b[0m\u001b[0mnp\u001b[0m\u001b[1;33m.\u001b[0m\u001b[0msqrt\u001b[0m\u001b[1;33m(\u001b[0m\u001b[1;36m2.\u001b[0m\u001b[1;33m*\u001b[0m\u001b[0mnp\u001b[0m\u001b[1;33m.\u001b[0m\u001b[0mpi\u001b[0m\u001b[1;33m)\u001b[0m\u001b[1;33m*\u001b[0m\u001b[0mself\u001b[0m\u001b[1;33m.\u001b[0m\u001b[0m__sd\u001b[0m\u001b[1;33m)\u001b[0m\u001b[1;33m\u001b[0m\u001b[0m\n\u001b[0;32m     10\u001b[0m        \u001b[0mexponent\u001b[0m\u001b[1;33m=\u001b[0m\u001b[1;33m(\u001b[0m\u001b[1;33m-\u001b[0m\u001b[1;33m(\u001b[0m\u001b[1;33m(\u001b[0m\u001b[0msequence\u001b[0m\u001b[1;33m-\u001b[0m\u001b[0mself\u001b[0m\u001b[1;33m.\u001b[0m\u001b[0m__av\u001b[0m\u001b[1;33m)\u001b[0m\u001b[1;33m**\u001b[0m\u001b[1;36m2\u001b[0m\u001b[1;33m)\u001b[0m\u001b[1;33m/\u001b[0m\u001b[1;33m(\u001b[0m\u001b[1;36m2.\u001b[0m\u001b[1;33m*\u001b[0m\u001b[1;33m(\u001b[0m\u001b[0mself\u001b[0m\u001b[1;33m.\u001b[0m\u001b[0m__sd\u001b[0m\u001b[1;33m**\u001b[0m\u001b[1;36m2\u001b[0m\u001b[1;33m)\u001b[0m\u001b[1;33m)\u001b[0m\u001b[1;33m)\u001b[0m\u001b[1;33m\u001b[0m\u001b[0m\n",
      "\u001b[1;31mAttributeError\u001b[0m: 'dataFrame326' object has no attribute '__min'"
     ]
    },
    {
     "data": {
      "image/png": "[encoded data removed]",
      "text/plain": [
       "<matplotlib.figure.Figure at 0xd521ef0>"
      ]
     },
     "metadata": {},
     "output_type": "display_data"
    }
   ],
   "source": [
    "plt.hist(d.retrieve(),15,normed=True)\n",
    "plt.plot(Gaussian(d)[0],Gaussian(d)[1],'r-')\n",
    "plt.plot(d.Gaussian()[0],Gaussian()[1],'m')"
   ]
  },
  {
   "cell_type": "code",
   "execution_count": 14,
   "metadata": {
    "collapsed": false
   },
   "outputs": [
    {
     "ename": "TypeError",
     "evalue": "__init__() takes exactly 3 arguments (2 given)",
     "output_type": "error",
     "traceback": [
      "\u001b[1;31m---------------------------------------------------------------------------\u001b[0m",
      "\u001b[1;31mTypeError\u001b[0m                                 Traceback (most recent call last)",
      "\u001b[1;32m<ipython-input-14-1c54ccacd29a>\u001b[0m in \u001b[0;36m<module>\u001b[1;34m()\u001b[0m\n\u001b[0;32m      1\u001b[0m \u001b[1;33m\u001b[0m\u001b[0m\n\u001b[1;32m----> 2\u001b[1;33m \u001b[0mmass\u001b[0m\u001b[1;33m=\u001b[0m\u001b[0mdataFrame326\u001b[0m\u001b[1;33m(\u001b[0m\u001b[0mnp\u001b[0m\u001b[1;33m.\u001b[0m\u001b[0mloadtxt\u001b[0m\u001b[1;33m(\u001b[0m\u001b[1;34m'mass.txt'\u001b[0m\u001b[1;33m,\u001b[0m \u001b[0mskiprows\u001b[0m\u001b[1;33m=\u001b[0m\u001b[1;36m1\u001b[0m\u001b[1;33m,\u001b[0m \u001b[0munpack\u001b[0m\u001b[1;33m=\u001b[0m\u001b[0mTrue\u001b[0m\u001b[1;33m)\u001b[0m\u001b[1;33m)\u001b[0m\u001b[1;33m\u001b[0m\u001b[0m\n\u001b[0m",
      "\u001b[1;31mTypeError\u001b[0m: __init__() takes exactly 3 arguments (2 given)"
     ]
    }
   ],
   "source": [
    "\n",
    "mass=dataFrame326(np.loadtxt('mass.txt', skiprows=1, unpack=True))"
   ]
  },
  {
   "cell_type": "code",
   "execution_count": null,
   "metadata": {
    "collapsed": true
   },
   "outputs": [],
   "source": []
  }
 ],
 "metadata": {
  "kernelspec": {
   "display_name": "Python 2",
   "language": "python",
   "name": "python2"
  },
  "language_info": {
   "codemirror_mode": {
    "name": "ipython",
    "version": 2
   },
   "file_extension": ".py",
   "mimetype": "text/x-python",
   "name": "python",
   "nbconvert_exporter": "python",
   "pygments_lexer": "ipython2",
   "version": "2.7.9"
  }
 },
 "nbformat": 4,
 "nbformat_minor": 0
}
