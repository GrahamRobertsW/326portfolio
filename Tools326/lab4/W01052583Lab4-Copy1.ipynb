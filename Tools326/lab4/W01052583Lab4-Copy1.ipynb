{
 "cells": [
  {
   "cell_type": "markdown",
   "metadata": {},
   "source": [
    "#Lab 3\n",
    "##Graham Roberts\n",
    "###8 January 2016"
   ]
  },
  {
   "cell_type": "code",
   "execution_count": 2,
   "metadata": {
    "collapsed": true
   },
   "outputs": [],
   "source": [
    "import numpy as np\n",
    "from matplotlib import pyplot as plt\n",
    "from scipy import integrate as intgrt\n",
    "import math\n",
    "%matplotlib inline"
   ]
  },
  {
   "cell_type": "code",
   "execution_count": 58,
   "metadata": {
    "collapsed": false
   },
   "outputs": [],
   "source": [
    "class dataFrame326(object):\n",
    "    \n",
    "    #def __calcAverage(self, **kwargs): \n",
    "    #    if kwargs is not None:\n",
    "    #        for key, value in kwargs.iteritems():\n",
    "    #            if (key=='delta' and value==True):\n",
    "    #                return np.sum(self.__uncertainties)/len(self.__uncertainties)\n",
    "    #            else:\n",
    "    #                return np.sum(self.__measurements)/len(self.__measurements)\n",
    "    #    else:\n",
    "    #    return np.sum(self.__measurements)/len(self.__measurements)\n",
    "    \n",
    "    def __calcAverage(self, **kwargs):\n",
    "       if ('delta' in kwargs) and kwargs['delta']==True:\n",
    "            return np.sum(self.__uncertainties)/len(self.__uncertainties)\n",
    "       else:\n",
    "            print np.sum(self.__measurements)/len(self.__measurements)\n",
    "            return np.sum(self.__measurements)/len(self.__measurements)\n",
    "   \n",
    "        \n",
    "    #def __calcSD(self, **kwargs):   \n",
    "    #    meanSquared, denominator = 1,1\n",
    "    #    if kwargs is not None:\n",
    "    #        for key,value in kwargs.iteritems():\n",
    "    #            if (key=='delta' and value==True):\n",
    "    #                meanSquared=np.sum([(i-self.__delta_av)**2 for i in self.__uncertainties])\n",
    "    #                denominator=len(self.__uncertainties)-1\n",
    "    #            else:\n",
    "    #                meanSquared=np.sum([(i-self.__av)**2 for i in self.__measurements])\n",
    "    #                denominator=len(self.__measurements)-1\n",
    "    #    else:\n",
    "    #        meanSquared=np.sum([(i-self.__av)**2 for i in self.__measurements])\n",
    "    #        denominator=len(self.__measurements)-1\n",
    "    #    return np.sqrt(meanSquared/denominator)\n",
    "    \n",
    "    def __calcSD(self, **kwargs):\n",
    "        meanSquared, denominator = 1,1\n",
    "        if ('delta' in kwargs) and kwargs['delta']==True:\n",
    "             meanSquared=np.sum([(i-self.__delta_av)**2 for i in self.__uncertainties])\n",
    "             denominator=len(self.__uncertainties)-1\n",
    "        else:\n",
    "            meanSquared=np.sum([(i-self.__av)**2 for i in self.__measurements])\n",
    "            denominator=len(self.__measurements)-1\n",
    "        return np.sqrt(meanSquared/denominator)\n",
    "            \n",
    "        \n",
    "        return np.sqrt(np.sum([(i-calcAverage(arrayLike))**2 for i in arrayLike])/(len(arrayLike)-1))\n",
    "    \n",
    "    def __calcWAV(self):\n",
    "       weights=np.zeros(len(self.__measurements))\n",
    "       for i in range (0,len(self.__measurements)):\n",
    "          if self.__uncertainties[i]!=0:\n",
    "             weights[i]=1./(self.__uncertainties[i])**2\n",
    "          else:\n",
    "             weights[i]=1./((self.__sd)**2)\n",
    "       return float(np.sum(self.__measurements*weights))/np.sum(weights), 1./np.sqrt(np.sum(weights))\n",
    "   \n",
    "\n",
    "    def __init__(self, measurements, uncertainties):\n",
    "        self.__measurements=measurements\n",
    "        self.__uncertainties=uncertainties\n",
    "        self.__av=self.__calcAverage()\n",
    "        self.__delta_av=self.__calcAverage(delta=True)\n",
    "        self.__sd=self.__calcSD()\n",
    "        self.__delta_sd=self.__calcSD(delta=True)\n",
    "        self.__wav=self.__calcWAV()\n",
    "        \n",
    "    #def mean(self,**kwargs):\n",
    "    #    print self.__av\n",
    "    #    if kwargs is not None:\n",
    "    #        for key, values in kwargs.iteritems():\n",
    "    #            if (key==delta and value==True):\n",
    "    #                return self.__delta_av\n",
    "    #            else:\n",
    "    #                return self.__av\n",
    "    #    else:\n",
    "    #        return self.__av\n",
    "        \n",
    "        \n",
    "    def mean(self, **kwargs):\n",
    "        if('delta' in kwargs) and kwargs['delta']==True:\n",
    "            return self.__delta_av\n",
    "        else:\n",
    "                    return self.__av\n",
    "        \n",
    "    #def sd(self,**kwargs):\n",
    "        if kwargs is not None:\n",
    "            for key, value in kwargs.iteritems():\n",
    "                if (key==delta and value==True):\n",
    "                    return self._delta_sd\n",
    "                else:\n",
    "                    return self.__sd\n",
    "        else:\n",
    "                    return self.__sd\n",
    "            \n",
    "    def sd(self, **kwargs):\n",
    "       if ('delta' in kwargs) and kwargs['delta'] ==True:\n",
    "          return self._delta_sd\n",
    "       else:\n",
    "                    return self.__sd\n",
    "    def wav(self):\n",
    "        return self.__wav\n",
    "    \n",
    "    \n",
    "\n",
    "   "
   ]
  },
  {
   "cell_type": "code",
   "execution_count": 59,
   "metadata": {
    "collapsed": false
   },
   "outputs": [
    {
     "name": "stdout",
     "output_type": "stream",
     "text": [
      "53.5259701493\n",
      "(53.641897286959406, 0.00092817718694005293)\n",
      "53.5259701493\n",
      "None\n",
      "(53.641897286959406, 0.00092817718694005293)\n"
     ]
    }
   ],
   "source": [
    "diameter, diameterDelta = np.loadtxt(\"diameter.txt\",skiprows=1,unpack=True)\n",
    "mass, massDelta = np.loadtxt(\"mass.txt\",skiprows=1,unpack=True)\n",
    "#print(diameter)\n",
    "d = dataFrame326(diameter, diameterDelta)\n",
    "print d.mean()\n",
    "print d.__calcAverage()\n",
    "print d.sd()\n",
    "print d.wav()"
   ]
  },
  {
   "cell_type": "code",
   "execution_count": 36,
   "metadata": {
    "collapsed": false
   },
   "outputs": [],
   "source": [
    "def calcAverage(arrayLike): return np.sum(arrayLike)/len(arrayLike)"
   ]
  },
  {
   "cell_type": "code",
   "execution_count": 5,
   "metadata": {
    "collapsed": true
   },
   "outputs": [],
   "source": [
    "def calcSD(arrayLike):   return np.sqrt(np.sum([(i-calcAverage(arrayLike))**2 for i in arrayLike])/(len(arrayLike)-1))"
   ]
  },
  {
   "cell_type": "code",
   "execution_count": 6,
   "metadata": {
    "collapsed": false
   },
   "outputs": [],
   "source": [
    "def calcWAV(arrayLike, arrayLikeDelta):\n",
    "    weights=np.zeros(len(arrayLike))\n",
    "    print(len(arrayLike))\n",
    "    print(len(weights))\n",
    "    for i in range (0,len(arrayLike)):\n",
    "        if arrayLikeDelta[i]!=0:\n",
    "            weights[i]=calcSD(arrayLike)\n",
    "        else:\n",
    "            weights[i]=1./((arrayLike[i]-calcAverage(arrayLike))**2)\n",
    "    return float(np.sum(arrayLike*weights))/np.sum(weights), 1./np.sqrt(np.sum(weights))"
   ]
  },
  {
   "cell_type": "code",
   "execution_count": 7,
   "metadata": {
    "collapsed": false
   },
   "outputs": [],
   "source": [
    "def schemCalcGaussian(arrayLike):   return (1/calcSD(arrayLike)*np.sqrt(2*np.pi))*np.e**(-((sequence(arrayLike)-calcAverage(arrayLike))**2)/(2*calcSD(arrayLike)**2))"
   ]
  },
  {
   "cell_type": "code",
   "execution_count": 8,
   "metadata": {
    "collapsed": false
   },
   "outputs": [],
   "source": [
    "def calcGaussian(arrayLike,sequence):\n",
    "    mean=calcAverage(arrayLike)\n",
    "    SD=calcSD(arrayLike)\n",
    "    normalizationFactor=1./(np.sqrt(2.*np.pi)*SD)\n",
    "    exponent=(-((sequence-mean)**2)/(2.*(SD**2)))\n",
    "    print intgrt.romb(np.e**exponent*normalizationFactor)\n",
    "    print normalizationFactor\n",
    "    return normalizationFactor*np.e**exponent"
   ]
  },
  {
   "cell_type": "code",
   "execution_count": 26,
   "metadata": {
    "collapsed": true
   },
   "outputs": [],
   "source": [
    "def sequence(arrayLike):\n",
    "    return np.linspace(int(min(arrayLike))-1,int(max(arrayLike))+1,2**10+1)"
   ]
  },
  {
   "cell_type": "code",
   "execution_count": 28,
   "metadata": {
    "collapsed": false
   },
   "outputs": [
    {
     "ename": "SyntaxError",
     "evalue": "can't assign to operator (<ipython-input-28-7dd6ecd5c6e4>, line 4)",
     "output_type": "error",
     "traceback": [
      "\u001b[1;36m  File \u001b[1;32m\"<ipython-input-28-7dd6ecd5c6e4>\"\u001b[1;36m, line \u001b[1;32m4\u001b[0m\n\u001b[1;33m    [(0.5+1)*i for ((0.5+1)*i) in range(mean,max(arrayLike)+2)]\u001b[0m\n\u001b[1;31mSyntaxError\u001b[0m\u001b[1;31m:\u001b[0m can't assign to operator\n"
     ]
    }
   ],
   "source": [
    "def calcBreaks(arrayLike):\n",
    "    sd=calcsd(arrayLike)\n",
    "    mean=calcAverage(arrayLike)\n",
    "    [(0.5+1)*i for ((0.5+1)*i) in range(mean,max(arrayLike)+2)]"
   ]
  },
  {
   "cell_type": "code",
   "execution_count": 11,
   "metadata": {
    "collapsed": false
   },
   "outputs": [
    {
     "name": "stdout",
     "output_type": "stream",
     "text": [
      "169.961316902\n",
      "0.714783595922\n"
     ]
    },
    {
     "data": {
      "text/plain": [
       "[<matplotlib.lines.Line2D at 0x91d5fd0>]"
      ]
     },
     "execution_count": 11,
     "metadata": {},
     "output_type": "execute_result"
    },
    {
     "data": {
      "image/png": "[encoded data removed]",
      "text/plain": [
       "<matplotlib.figure.Figure at 0x95e7278>"
      ]
     },
     "metadata": {},
     "output_type": "display_data"
    }
   ],
   "source": [
    "seq=sequence(diameter)\n",
    "plt.hist(diameter,15)\n",
    "plt.plot(seq,len(diameter)*calcGaussian(diameter,seq),'r-')"
   ]
  },
  {
   "cell_type": "code",
   "execution_count": 12,
   "metadata": {
    "collapsed": false
   },
   "outputs": [
    {
     "name": "stdout",
     "output_type": "stream",
     "text": [
      "1000\n"
     ]
    }
   ],
   "source": [
    "print len((1/calcSD(diameter)*np.sqrt(2*np.pi))*np.e**(-((np.linspace(int(min(diameter))-1,int(max(diameter))+1,1000)-calcAverage(diameter))**2)/(2*calcSD(diameter)**2)))"
   ]
  },
  {
   "cell_type": "code",
   "execution_count": 13,
   "metadata": {
    "collapsed": false
   },
   "outputs": [
    {
     "name": "stdout",
     "output_type": "stream",
     "text": [
      "169.961316902\n",
      "0.714783595922\n",
      "169.961316902\n",
      "0.714783595922\n",
      "169.961316902\n",
      "0.714783595922\n"
     ]
    },
    {
     "data": {
      "text/plain": [
       "0.99586709122397532"
      ]
     },
     "execution_count": 13,
     "metadata": {},
     "output_type": "execute_result"
    }
   ],
   "source": [
    "intgrt.simps(calcGaussian(diameter,sequence(diameter)))\n",
    "intgrt.cumtrapz(calcGaussian(diameter,sequence(diameter)))\n",
    "intgrt.romb(calcGaussian(diameter,sequence(diameter)),sequence(diameter)[1]-sequence(diameter)[0])"
   ]
  },
  {
   "cell_type": "code",
   "execution_count": 14,
   "metadata": {
    "collapsed": false
   },
   "outputs": [
    {
     "name": "stdout",
     "output_type": "stream",
     "text": [
      "67\n",
      "67\n"
     ]
    },
    {
     "data": {
      "text/plain": [
       "(53.602510993509625, 0.093764305649211038)"
      ]
     },
     "execution_count": 14,
     "metadata": {},
     "output_type": "execute_result"
    }
   ],
   "source": [
    "calcWAV(diameter,diameterDelta)"
   ]
  },
  {
   "cell_type": "code",
   "execution_count": 15,
   "metadata": {
    "collapsed": false
   },
   "outputs": [],
   "source": [
    "def comp(x,upper, lower):\n",
    "   return(x<=upper and x>=lower)"
   ]
  },
  {
   "cell_type": "code",
   "execution_count": 16,
   "metadata": {
    "collapsed": false
   },
   "outputs": [
    {
     "name": "stdout",
     "output_type": "stream",
     "text": [
      "0.558130156704\n",
      "0.5539493476\n"
     ]
    }
   ],
   "source": [
    "print calcSD(diameter)\n",
    "print np.std(diameter)"
   ]
  },
  {
   "cell_type": "code",
   "execution_count": 25,
   "metadata": {
    "collapsed": false
   },
   "outputs": [
    {
     "data": {
      "text/plain": [
       "(array([  1.,   0.,   1.,   0.,   0.,   0.,   0.,   2.,   7.,  56.]),\n",
       " array([ 50. ,  50.4,  50.8,  51.2,  51.6,  52. ,  52.4,  52.8,  53.2,\n",
       "         53.6,  54. ]),\n",
       " <a list of 10 Patch objects>)"
      ]
     },
     "execution_count": 25,
     "metadata": {},
     "output_type": "execute_result"
    },
    {
     "data": {
      "image/png": "[encoded data removed]",
      "text/plain": [
       "<matplotlib.figure.Figure at 0x92063c8>"
      ]
     },
     "metadata": {},
     "output_type": "display_data"
    }
   ],
   "source": [
    "f, ax=plt.subplots(3,2,sharex='col',sharey='row')\n",
    "ax[0,0].hist(diameter)"
   ]
  },
  {
   "cell_type": "code",
   "execution_count": null,
   "metadata": {
    "collapsed": true
   },
   "outputs": [],
   "source": []
  }
 ],
 "metadata": {
  "kernelspec": {
   "display_name": "Python 2",
   "language": "python",
   "name": "python2"
  },
  "language_info": {
   "codemirror_mode": {
    "name": "ipython",
    "version": 2
   },
   "file_extension": ".py",
   "mimetype": "text/x-python",
   "name": "python",
   "nbconvert_exporter": "python",
   "pygments_lexer": "ipython2",
   "version": "2.7.9"
  }
 },
 "nbformat": 4,
 "nbformat_minor": 0
}
