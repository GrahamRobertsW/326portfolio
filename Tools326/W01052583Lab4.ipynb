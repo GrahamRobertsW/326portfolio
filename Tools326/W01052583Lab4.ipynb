{
 "cells": [
  {
   "cell_type": "markdown",
   "metadata": {},
   "source": [
    "#Lab 3\n",
    "##Graham Roberts\n",
    "###8 January 2016"
   ]
  },
  {
   "cell_type": "code",
   "execution_count": 1,
   "metadata": {
    "collapsed": true
   },
   "outputs": [],
   "source": [
    "import numpy as np\n",
    "from matplotlib import pyplot as plt\n",
    "from scipy import integrate as intgrt\n",
    "import math\n",
    "%matplotlib inline"
   ]
  },
  {
   "cell_type": "code",
   "execution_count": 2,
   "metadata": {
    "collapsed": false
   },
   "outputs": [],
   "source": [
    "class dataFrame326(object):\n",
    "# dataFrame326\n",
    "# This is a class that I built for this class\n",
    "# It holds a set of measurements and their uncertainties\n",
    "# Most functions have the keyward argument (kwarg)delta which means that you want to deal with the uncertainties\n",
    "# Usually this is only useful if you're curious about the distribution of uncertainty estimates\n",
    "# It also holds a couple of functions that output useful information on the class\n",
    "# In python anything preceded by __ (two underscores) should be treated as a method or attribute private to the object\n",
    "# additionally ther self argument seen in these function's signatures is automattically passed without any manual reference\n",
    "\n",
    "\n",
    "    def __calcAverage(self, **kwargs):\n",
    "        #calcAverage\n",
    "        #this function takes no arguments except the delta kwarg\n",
    "        #If the delta flag is true the average of the uncertainties is calculated\n",
    "        #Normally simply returns the average of the measurements array\n",
    "       if ('delta' in kwargs) and kwargs['delta']==True:\n",
    "            return np.sum(self.__uncertainties)/len(self.__uncertainties)\n",
    "       else:\n",
    "            return np.sum(self.__measurements)/len(self.__measurements)\n",
    "    \n",
    "    def __calcSD(self, **kwargs):\n",
    "        #calcSD\n",
    "        #This function calculates the standard deviation\n",
    "        #if delta is true the standard deviation of the uncertainties is returned\n",
    "        meanSquared, denominator = 1,1\n",
    "        if ('delta' in kwargs) and kwargs['delta']==True:\n",
    "             meanSquared=np.sum([(i-self.__delta_av)**2 for i in self.__uncertainties])\n",
    "             denominator=len(self.__uncertainties)-1\n",
    "        else:\n",
    "            meanSquared=np.sum([(i-self.__av)**2 for i in self.__measurements])\n",
    "            denominator=len(self.__measurements)-1\n",
    "        return np.sqrt(meanSquared/denominator)\n",
    "    \n",
    "    def __calcWAV(self):\n",
    "        #calcWAV this returns the weighted average, and uncertainty of the weighted average\n",
    "        #There is no weighted average of uncertainties \n",
    "       weights=np.zeros(len(self.__measurements))\n",
    "       for i in range (0,len(self.__measurements)):\n",
    "          if self.__uncertainties[i]!=0:\n",
    "             weights[i]=1./(self.__uncertainties[i])**2\n",
    "          else:\n",
    "             weights[i]=1./((self.__sd)**2)\n",
    "       return float(np.sum(self.__measurements*weights))/np.sum(weights), 1./np.sqrt(np.sum(weights))\n",
    "   \n",
    "\n",
    "    def __init__(self, measurements, uncertainties):\n",
    "        #Constructor \n",
    "        #called as varname = dataFrame326(measurements,uncertainties)\n",
    "        #populates the private arrays containing the measurements and uncertainties\n",
    "        #calculates and stores the hidden attributes av[average], sd, min, max, and wav\n",
    "        #for the measurements and uncertainties axcept the wav\n",
    "        self.__measurements=measurements\n",
    "        self.__uncertainties=uncertainties\n",
    "        self.__av=self.__calcAverage()\n",
    "        self.__delta_av=self.__calcAverage(delta=True)\n",
    "        self.__sd=self.__calcSD()\n",
    "        self.__delta_sd=self.__calcSD(delta=True)\n",
    "        self.__wav=self.__calcWAV()\n",
    "        self.__min=min(measurements)\n",
    "        self.__delta_min=min(uncertainties)\n",
    "        self.__max=max(measurements)\n",
    "        self.__delta_max=max(uncertainties)\n",
    "        \n",
    "    def mean(self, **kwargs):\n",
    "        #mean\n",
    "        #this is a getter for the value of mean\n",
    "        #this returns the mean of measurements or uncertainties\n",
    "        if('delta' in kwargs) and kwargs['delta']==True:\n",
    "            return self.__delta_av\n",
    "        else:\n",
    "                    return self.__av\n",
    "            \n",
    "    def sd(self, **kwargs):\n",
    "        #this is a getter for standard deviation\n",
    "       if ('delta' in kwargs) and kwargs['delta'] ==True:\n",
    "          return self.__delta_sd\n",
    "       else:\n",
    "                    return self.__sd\n",
    "        \n",
    "        \n",
    "    def wav(self):\n",
    "        #getter for weighted average\n",
    "        return self.__wav[0], self.__wav[1]\n",
    "    \n",
    "    def min(self,**kwargs):\n",
    "        #min overloads the max function\n",
    "        #if called in the manner varname.max() the maximum of the measurements in varname is returned\n",
    "        if ('delta' in kwargs) and kwargs['delta'] ==True:\n",
    "            return self.__delta_min\n",
    "        else:\n",
    "            return self.__min\n",
    "        \n",
    "    def max(self,**kwargs):\n",
    "        #getter overloads the max function\n",
    "        if ('delta' in kwargs) and kwargs['delta'] ==True:\n",
    "            return self.__delta_max\n",
    "        else:\n",
    "            return self.__max\n",
    "    \n",
    "    def retrieve(self, **kwargs):\n",
    "        #retrieve \n",
    "        #returns the array of measurements or uncertainties\n",
    "        #additional kwarg sd\n",
    "        #is sd is True only the values within 1 sd of the mean are returned\n",
    "        if ('delta' in kwargs) and kwargs['delta'] ==True:\n",
    "            values = self.__uncertainties\n",
    "            d=True\n",
    "        else:\n",
    "            values = self.__measurements\n",
    "            d=False\n",
    "        if ('sd' in kwargs) and kwargs['sd'] ==True:\n",
    "            values=values[np.where(np.logical_and(values>=self.mean(delta=d)-self.sd(delta=d),values<=self.mean(delta=d)+self.sd(delta=d)))]\n",
    "        return values\n",
    "            \n",
    "    def Gaussian(self, **kwargs):\n",
    "        #Gaussian\n",
    "        #returns two arrays,\n",
    "        #the first is an array of x-values used to calculate the gaussian\n",
    "        #the second is their corresponding y-values\n",
    "        #perfect for plotting\n",
    "        #if delta is True a gaussian of uncertainties is returned\n",
    "        #useful for pure academic curiosity\n",
    "        #if sd is True only the values within 1 sd are returned\n",
    "        #useful for integration\n",
    "       if ('delta' in kwargs) and kwargs['delta']==True:\n",
    "          sequence=np.linspace(int(self.__delta_min-1),int(self.__delta_max+1),1000)\n",
    "          if ('sd' in kwargs) and kwargs['sd']==True:\n",
    "                sequence=sequence[np.where(np.logical_and(sequence<=self.__delta_av+self.__delta_sd, sequence>=self.__delta_av-self.__delta_sd))]\n",
    "          normalizationFactor=1./(np.sqrt(2.*np.pi)*self.__delta_sd)\n",
    "          exponent=(-((sequence-self.__delta_av)**2)/(2.*self.__delta_sd**2))\n",
    "       else:\n",
    "          sequence=np.linspace(int(self.__min-1),int(self.__max+1),1000)\n",
    "          if ('sd' in kwargs) and kwargs['sd']==True:\n",
    "               sequence=sequence[np.where(np.logical_and(sequence<=self.__av+self.__sd, sequence>=self.__av-self.__sd))]\n",
    "          normalizationFactor=1./(np.sqrt(2.*np.pi)*self.__sd)\n",
    "          exponent=(-((sequence-self.__av)**2)/(2.*(self.__sd**2))) \n",
    "       Gauss = normalizationFactor*np.exp(exponent)\n",
    "       return sequence, Gauss\n",
    "   \n",
    "    def calcBreaks(self, **kwargs):\n",
    "        #calcbreaks\n",
    "        #returns an array of bins for a histogram\n",
    "        #one is centered on the mean, and they have bin widths of 1 sd\n",
    "       upper=[]\n",
    "       lower=[]\n",
    "       if ('delta' in kwargs) and kwargs['delta']==True:\n",
    "           values=self.__uncertainties\n",
    "           sd=self.__delta_sd\n",
    "           mean=self.__delta_av\n",
    "           min=self.__delta_min\n",
    "           max=self.__delta_max\n",
    "       else:\n",
    "           values=self.__measurements\n",
    "           sd=self.__sd\n",
    "           mean=self.__av\n",
    "           min=self.__min\n",
    "           max=self.__max\n",
    "       upper.append(mean+sd/2.)\n",
    "       lower.append(mean-sd/2.)\n",
    "       i=mean+sd/2.\n",
    "       while i < max:\n",
    "           j=i+sd\n",
    "           upper=upper+[j]\n",
    "           i=j  \n",
    "       i=mean-sd/2.\n",
    "       while i > min:\n",
    "           j=i-sd\n",
    "           lower=lower+[j]\n",
    "           i=j\n",
    "       lower=list(reversed(lower))\n",
    "       return np.array(lower+upper)\n",
    "    "
   ]
  },
  {
   "cell_type": "code",
   "execution_count": 3,
   "metadata": {
    "collapsed": false
   },
   "outputs": [],
   "source": [
    "#This cell simply construct diameter and mass dataFrames from the text files\n",
    "diameter, diameterDelta = np.loadtxt(\"diameter.txt\",skiprows=1,unpack=True)\n",
    "m, massDelta = np.loadtxt(\"mass.txt\",skiprows=1,unpack=True)\n",
    "diameter = dataFrame326(diameter, diameterDelta)\n",
    "mass = dataFrame326(m,massDelta)"
   ]
  },
  {
   "cell_type": "code",
   "execution_count": 4,
   "metadata": {
    "collapsed": false
   },
   "outputs": [
    {
     "name": "stdout",
     "output_type": "stream",
     "text": [
      "the area under the top histogram is 35.9993951074\n",
      "The mean is 53.5259701493\n",
      "the standard deviation is 0.558130156704\n",
      "the weighted average is 53.641897287 with uncertainty 0.00092817718694\n",
      "the area under the Gaussian is approximately 0.995866780336 and should be 1\n",
      "the area under the Gaussian in one standard deviation is 0.680447144146 and should be .68\n",
      "the percentage of values actually in within one standard deviation is 65\n"
     ]
    },
    {
     "data": {
      "image/png": "[encoded data removed]",
      "text/plain": [
       "<matplotlib.figure.Figure at 0x10a1f9910>"
      ]
     },
     "metadata": {},
     "output_type": "display_data"
    }
   ],
   "source": [
    "#This cell creates two matplotlib subplots for diameter\n",
    "#The top is simply a histogram\n",
    "#The bottom is a normalized histogram with a superimposed Gaussian\n",
    "#Additionally the statistics you requested are provided and annotated\n",
    "f, axarr = plt.subplots(2,1,sharex='col')\n",
    "hist= axarr[0].hist(diameter.retrieve(),bins=diameter.calcBreaks(),normed=False)\n",
    "plt.text(48.66,2.75,'counts',ha='right',va='center',rotation='vertical')\n",
    "axarr[1].hist(diameter.retrieve(),bins=diameter.calcBreaks(),normed=True)\n",
    "plt.text(48.66,0.75,'normalized counts',ha='right',va='center',rotation='vertical')\n",
    "plt.text(51.5,-0.33,'diameter')\n",
    "x,y=diameter.Gaussian()\n",
    "xprime,yprime=diameter.Gaussian(sd=True)\n",
    "axarr[1].plot(x,y,'black')\n",
    "axarr[1].plot(xprime,yprime,'m')\n",
    "axarr[1].axvspan(diameter.mean()-diameter.sd(),diameter.mean()+diameter.sd(),facecolor='goldenrod',alpha=0.3)\n",
    "axarr[0].axvspan(diameter.mean()-diameter.sd(),diameter.mean()+diameter.sd(),facecolor='goldenrod',alpha=0.3)\n",
    "in1sd=np.where(np.logical_and(x>=diameter.mean()-diameter.sd(), x<=diameter.mean()+diameter.sd()))\n",
    "print 'the area under the top histogram is '+str(np.trapz(hist[0],dx=np.diff(diameter.calcBreaks())[0]))\n",
    "print 'The mean is '+str(diameter.mean())\n",
    "print 'the standard deviation is '+str(diameter.sd())\n",
    "print 'the weighted average is '+str(diameter.wav()[0])+' with uncertainty '+str(diameter.wav()[1])\n",
    "print 'the area under the Gaussian is approximately ' +str(np.trapz(y,x))+' and should be 1'\n",
    "print 'the area under the Gaussian in one standard deviation is '+str(np.trapz(yprime,xprime))+' and should be .68'\n",
    "print 'the percentage of values actually in within one standard deviation is ' + str(len((diameter.retrieve(sd=True))/len(diameter.retrieve())))"
   ]
  },
  {
   "cell_type": "code",
   "execution_count": 5,
   "metadata": {
    "collapsed": false
   },
   "outputs": [
    {
     "name": "stdout",
     "output_type": "stream",
     "text": [
      "the area under the top histogram is 12.785746028\n",
      "The mean is 1.34014925373\n",
      "the standard deviation is 0.193723424667\n",
      "the weighted average is 1.42115387873 with uncertainty 0.00342442326047\n",
      "the area under the Gaussian is approximately 0.999999999998 and should be 1\n",
      "the area under the Gaussian in one standard deviation is 0.678835276132 and should be .68\n",
      "the percentage of values actually in within one standard deviation is 43\n"
     ]
    },
    {
     "data": {
      "image/png": "[encoded data removed]",
      "text/plain": [
       "<matplotlib.figure.Figure at 0x10a21a150>"
      ]
     },
     "metadata": {},
     "output_type": "display_data"
    }
   ],
   "source": [
    "#This is very similar to the cell above except for mass not diameter\n",
    "f, axarr = plt.subplots(2,1,sharex='col')\n",
    "hist =axarr[0].hist(mass.retrieve(),bins=mass.calcBreaks(),normed=False)\n",
    "plt.text(-.18,5,'counts',ha='right',va='center',rotation='vertical')\n",
    "axarr[1].hist(mass.retrieve(),bins=mass.calcBreaks(),normed=True)\n",
    "plt.text(-.18,1.5,'normalized counts',ha='right',va='center',rotation='vertical')\n",
    "plt.text(1.33,-0.6,'mass')\n",
    "x,y=mass.Gaussian()\n",
    "xprime,yprime=mass.Gaussian(sd=True)\n",
    "axarr[1].plot(x,y,'black')\n",
    "axarr[1].plot(xprime,yprime,'m')\n",
    "axarr[1].axvspan(mass.mean()-mass.sd(),mass.mean()+mass.sd(),facecolor='goldenrod',alpha=0.3)\n",
    "axarr[0].axvspan(mass.mean()-mass.sd(),mass.mean()+mass.sd(),facecolor='goldenrod',alpha=0.3)\n",
    "in1sd=np.where(np.logical_and(x>=mass.mean()-mass.sd(), x<=mass.mean()+mass.sd()))\n",
    "print 'the area under the top histogram is '+str(np.trapz(hist[0],dx=np.diff(mass.calcBreaks())[0]))\n",
    "print 'The mean is '+str(mass.mean())\n",
    "print 'the standard deviation is '+str(mass.sd())\n",
    "print 'the weighted average is '+str(mass.wav()[0])+' with uncertainty '+str(mass.wav()[1])\n",
    "print 'the area under the Gaussian is approximately ' +str(np.trapz(y,x))+' and should be 1'\n",
    "print 'the area under the Gaussian in one standard deviation is '+str(np.trapz(yprime,xprime))+' and should be .68'\n",
    "print 'the percentage of values actually in within one standard deviation is ' + str(len((mass.retrieve(sd=True))/len(mass.retrieve())))\n"
   ]
  },
  {
   "cell_type": "code",
   "execution_count": null,
   "metadata": {
    "collapsed": true
   },
   "outputs": [],
   "source": []
  },
  {
   "cell_type": "code",
   "execution_count": null,
   "metadata": {
    "collapsed": true
   },
   "outputs": [],
   "source": []
  }
 ],
 "metadata": {
  "kernelspec": {
   "display_name": "Python 2",
   "language": "python",
   "name": "python2"
  },
  "language_info": {
   "codemirror_mode": {
    "name": "ipython",
    "version": 2
   },
   "file_extension": ".py",
   "mimetype": "text/x-python",
   "name": "python",
   "nbconvert_exporter": "python",
   "pygments_lexer": "ipython2",
   "version": "2.7.11"
  }
 },
 "nbformat": 4,
 "nbformat_minor": 0
}
