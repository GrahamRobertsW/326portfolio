{
 "cells": [
  {
   "cell_type": "markdown",
   "metadata": {},
   "source": [
    "# Lab 6: Poisson Distribution"
   ]
  },
  {
   "cell_type": "markdown",
   "metadata": {},
   "source": [
    "In this lab, we will explore the statistics of counting.  This notebook is provided as a template, but you will need to add your own work to some cells, and certainly add many more cells."
   ]
  },
  {
   "cell_type": "code",
   "execution_count": 1,
   "metadata": {
    "collapsed": false
   },
   "outputs": [],
   "source": [
    "import numpy as np\n",
    "import scipy.misc as misc"
   ]
  },
  {
   "cell_type": "code",
   "execution_count": 2,
   "metadata": {
    "collapsed": false
   },
   "outputs": [],
   "source": [
    "from matplotlib import pyplot as plt\n",
    "%matplotlib inline"
   ]
  },
  {
   "cell_type": "code",
   "execution_count": null,
   "metadata": {
    "collapsed": true
   },
   "outputs": [],
   "source": []
  },
  {
   "cell_type": "raw",
   "metadata": {},
   "source": [
    "## Part 1:  Radioactivity Simulation"
   ]
  },
  {
   "cell_type": "markdown",
   "metadata": {
    "collapsed": false
   },
   "source": [
    "Evaluate the following statement:\n",
    "> The Poisson distribution represents an approimation to the binomial distribution for the special case where the average number of successes is much smaller than the possible number. (Bevington & Robinson 1992)\n",
    "\n",
    "The following cell can be used as a numerical experiment.  Reverse engineer it in words, and set the variables such that the average number of successes is 3 as we did in class.  Show explicitly that you get the Poisson Distribution.\n"
   ]
  },
  {
   "cell_type": "code",
   "execution_count": 3,
   "metadata": {
    "collapsed": false
   },
   "outputs": [
    {
     "name": "stdout",
     "output_type": "stream",
     "text": [
      "[0]\n"
     ]
    }
   ],
   "source": [
    "n_possible=10000\n",
    "#p=np.zeros(20)\n",
    "p=[0]\n",
    "success=.01\n",
    "print p\n",
    "runs=10000\n",
    "for i in range(10000):\n",
    "    decay=(np.random.random(n_possible) < success).sum()\n",
    "    try:\n",
    "        p[decay]+=1.\n",
    "    except IndexError:\n",
    "        p=p+[0]*(decay-len(p)+1)\n",
    "        p[decay]+=1.\n",
    "\n",
    "prob=np.array(p)/n_possible"
   ]
  },
  {
   "cell_type": "code",
   "execution_count": null,
   "metadata": {
    "collapsed": false
   },
   "outputs": [],
   "source": []
  },
  {
   "cell_type": "markdown",
   "metadata": {},
   "source": [
    "## Part 2:  Poisson to Gaussian"
   ]
  },
  {
   "cell_type": "markdown",
   "metadata": {},
   "source": [
    "Taylor says that the Poisson distribution for the probability of $\\nu$ counts occurring in a given time,\n",
    "$$\n",
    "P(\\nu)=e^{-\\mu} \\frac{\\mu^\\nu}{\\nu !},\n",
    "$$\n",
    "approaches the Gaussian distribution as the expected number of counts $\\mu$ increases.  Plot the Poisson distribution for various values of $\\mu$ to show that this is true.  \n",
    "\n",
    "Start by plotting the Poisson distribution with small numbers, and make notes on what you see.  Explain why the plots make sense."
   ]
  },
  {
   "cell_type": "code",
   "execution_count": 4,
   "metadata": {
    "collapsed": false
   },
   "outputs": [],
   "source": [
    "nu=np.arange(len(prob))\n",
    "mu=success*n_possible\n",
    "p=np.exp(-mu)*(mu**nu)/misc.factorial(nu)"
   ]
  },
  {
   "cell_type": "code",
   "execution_count": 5,
   "metadata": {
    "collapsed": false
   },
   "outputs": [
    {
     "data": {
      "text/plain": [
       "[<matplotlib.lines.Line2D at 0xa031cf8>]"
      ]
     },
     "execution_count": 5,
     "metadata": {},
     "output_type": "execute_result"
    },
    {
     "data": {
      "image/png": "[encoded data removed]",
      "text/plain": [
       "<matplotlib.figure.Figure at 0xa031c18>"
      ]
     },
     "metadata": {},
     "output_type": "display_data"
    }
   ],
   "source": [
    "plt.plot(nu,prob,'mo')\n",
    "plt.plot(nu,p,'c-')\n"
   ]
  },
  {
   "cell_type": "markdown",
   "metadata": {},
   "source": [
    "Now overplot a Gaussian where the mean is $\\mu$ and the standard deviation is $\\sqrt{\\mu}$.  Can you verify Taylor's claim?  If so, then you have shown that the uncertainty in a count number is the square root of that number."
   ]
  },
  {
   "cell_type": "markdown",
   "metadata": {},
   "source": [
    "## Part 3:  Measuring Geiger Counts"
   ]
  },
  {
   "cell_type": "markdown",
   "metadata": {},
   "source": [
    "Measure the number of decays of C60 in 2 seconds using the instrument provided.  Now repeat the experiment 100 times.  Feel free to collaborate!  You may find it easy to save the data in a file."
   ]
  },
  {
   "cell_type": "code",
   "execution_count": 6,
   "metadata": {
    "collapsed": false
   },
   "outputs": [],
   "source": [
    " x=np.array([])\n",
    " x=np.loadtxt(\"Friday Lab 6 Data - Sheet1.csv\")"
   ]
  },
  {
   "cell_type": "markdown",
   "metadata": {},
   "source": [
    "Find the mean and standard deviation of the data.  Experiment with the histogram plots until you come up with a binning that you feel best represents the data."
   ]
  },
  {
   "cell_type": "code",
   "execution_count": 7,
   "metadata": {
    "collapsed": false
   },
   "outputs": [],
   "source": [
    "avg=x.sum()/x.size\n",
    "std=np.sqrt(np.sum((x-x.mean())**2)/x.size)"
   ]
  },
  {
   "cell_type": "code",
   "execution_count": 8,
   "metadata": {
    "collapsed": false
   },
   "outputs": [],
   "source": [
    "hist, bin_edges = np.histogram(x,density=1)\n",
    "bin_centres = (bin_edges[:-1] + bin_edges[1:])/2"
   ]
  },
  {
   "cell_type": "code",
   "execution_count": 9,
   "metadata": {
    "collapsed": false
   },
   "outputs": [
    {
     "data": {
      "image/png": "[encoded data removed]",
      "text/plain": [
       "<matplotlib.figure.Figure at 0xa479cf8>"
      ]
     },
     "metadata": {},
     "output_type": "display_data"
    }
   ],
   "source": [
    "plt.hist(x,bins=bin_edges,normed=True,color='blue',alpha=0.5)\n",
    "plt.show()"
   ]
  },
  {
   "cell_type": "markdown",
   "metadata": {},
   "source": [
    "How does the standard deviation of the measurements compare to the square root of the mean number of counts?"
   ]
  },
  {
   "cell_type": "code",
   "execution_count": 10,
   "metadata": {
    "collapsed": false
   },
   "outputs": [
    {
     "name": "stdout",
     "output_type": "stream",
     "text": [
      "the standard deviation is 9.2758255609,\n",
      "the square root of the mean is 8.79214915663,\n",
      " thus the standard deviation is 1.05501230651 of the root of the mean\n"
     ]
    }
   ],
   "source": [
    "print \"the standard deviation is {0},\\nthe square root of the mean is {1},\\n thus the standard deviation is {2} of the root of the mean\".format(std, np.sqrt(avg), std/np.sqrt(avg))"
   ]
  },
  {
   "cell_type": "markdown",
   "metadata": {},
   "source": [
    "These values are very close"
   ]
  },
  {
   "cell_type": "markdown",
   "metadata": {},
   "source": [
    "How does the propagated error in each measurement contribute to the error of the mean in the averaging process?"
   ]
  },
  {
   "cell_type": "markdown",
   "metadata": {
    "collapsed": false
   },
   "source": [
    "$$\\sigma_{\\bar{x}}=\\frac{\\sigma_x}{\\sqrt{N}}$$\n",
    "Thus as error propogate through, the more uncertain the measurements, the greater the $\\sigma_x$, the greater the $\\sigma_{\\bar{x}}$\n"
   ]
  },
  {
   "cell_type": "markdown",
   "metadata": {},
   "source": [
    "Repeat the exercises above for just the first 20 points.  What do you notice?  How do the mean and standard deviation compare?"
   ]
  },
  {
   "cell_type": "code",
   "execution_count": 23,
   "metadata": {
    "collapsed": false
   },
   "outputs": [
    {
     "data": {
      "image/png": "[encoded data removed]",
      "text/plain": [
       "<matplotlib.figure.Figure at 0xa4f3588>"
      ]
     },
     "metadata": {},
     "output_type": "display_data"
    },
    {
     "name": "stdout",
     "output_type": "stream",
     "text": [
      "the standard deviation is 8.43489774686,\n",
      "the square root of the mean is 8.69195029898,\n",
      " thus the standard deviation is 0.970426366548 of the root of the mean\n"
     ]
    }
   ],
   "source": [
    "xprime=(x[0:20:1])\n",
    "avgprime=xprime.sum()/20.\n",
    "stdprime=np.sqrt(np.sum((xprime-avgprime)**2)/20.)\n",
    "histprime, bin_edgesprime = np.histogram(xprime,density=1)\n",
    "bin_centresprime = (bin_edgesprime[:-1] + bin_edgesprime[1:])/2\n",
    "plt.hist(xprime,bins=bin_edgesprime,normed=True,color='blue',alpha=0.5)\n",
    "plt.show()\n",
    "print \"the standard deviation is {0},\\nthe square root of the mean is {1},\\n thus the standard deviation is {2} of the root of the mean\".format(stdprime, np.sqrt(avgprime), stdprime/np.sqrt(avgprime))"
   ]
  },
  {
   "cell_type": "markdown",
   "metadata": {},
   "source": [
    "Imagine that each 20-run set is one experiment.  Find the mean, the standard deviation, and standard deviation of the mean for each  of the resulting five experiments.  Show the results in a table.  Then calculate the standard deviation of the resulting five values of the mean.  Which values best represent the observed spread in the average value of the 5 experiments."
   ]
  },
  {
   "cell_type": "code",
   "execution_count": 33,
   "metadata": {
    "collapsed": false
   },
   "outputs": [
    {
     "name": "stdout",
     "output_type": "stream",
     "text": [
      "mean \t\t std \t\t sdom\t\t total\n",
      "\n",
      "75.55\t8.43489774686\t1.88610047452\t1511.0\n",
      "\n",
      "73.95\t8.69180648657\t1.94354701512\t1479.0\n",
      "\n",
      "77.35\t7.69594048834\t1.72086460827\t1547.0\n",
      "\n",
      "76.6\t10.1360741907\t2.26649509155\t1532.0\n",
      "\n",
      "80.35\t8.07635437558\t1.80592773942\t1607.0\n",
      "\n",
      "The standard deviation of the five values of the mean is 2.12706370379\n"
     ]
    }
   ],
   "source": [
    "mean=[]\n",
    "std=[]\n",
    "sdom=[]\n",
    "total=[]\n",
    "print \"mean \\t\\t std \\t\\t sdom\\t\\t total\\n\"\n",
    "for i in range (0,5):\n",
    "    temp=x[20*i:20*i+20:1]\n",
    "    mean.append(np.mean(temp))\n",
    "    std.append(np.std(temp))\n",
    "    sdom.append(std[i]/np.sqrt(20.))\n",
    "    total.append(np.sum(temp))\n",
    "    print \"{0}\\t{1}\\t{2}\\t{3}\\n\".format(mean[i],std[i],sdom[i],total[i])\n",
    "print \"The standard deviation of the five values of the mean is {0}\".format(np.std(mean))\n"
   ]
  },
  {
   "cell_type": "markdown",
   "metadata": {},
   "source": [
    "unsurprisingly the standard deviation of the various means best estimates the standard deviation of the collection of means"
   ]
  },
  {
   "cell_type": "markdown",
   "metadata": {},
   "source": [
    "What if, instead, you simply ran five 20 $\\times$ 2 second = 40 second experiments?  What would be the uncertainty in each experiment?  Now use propagation of error to report the \"2 second\" count rate for each experiment.  What do you notice?"
   ]
  },
  {
   "cell_type": "markdown",
   "metadata": {
    "collapsed": false
   },
   "source": [
    "The uncertainty would be much higher with larger uncertainty in each number of counts $\\sqrt{1500}>\\sqrt{75}$ and there would be fewer samples in the denominator $\\sqrt{5}<\\sqrt{100}$, so the uncertainty would be higher."
   ]
  },
  {
   "cell_type": "code",
   "execution_count": null,
   "metadata": {
    "collapsed": false
   },
   "outputs": [],
   "source": []
  }
 ],
 "metadata": {
  "kernelspec": {
   "display_name": "Python 2",
   "language": "python",
   "name": "python2"
  },
  "language_info": {
   "codemirror_mode": {
    "name": "ipython",
    "version": 2
   },
   "file_extension": ".py",
   "mimetype": "text/x-python",
   "name": "python",
   "nbconvert_exporter": "python",
   "pygments_lexer": "ipython2",
   "version": "2.7.9"
  }
 },
 "nbformat": 4,
 "nbformat_minor": 0
}
