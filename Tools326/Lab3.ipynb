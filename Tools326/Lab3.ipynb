{
 "cells": [
  {
   "cell_type": "markdown",
   "metadata": {},
   "source": [
    "#PHYS 326 Lab 3#"
   ]
  },
  {
   "cell_type": "markdown",
   "metadata": {},
   "source": [
    "In this lab, we will practice fitting a line to data.  The task is not particularly hard, but will give those who are new to programming a chance to practice some basic methods.  You may adapt this template for your write-up. Don't forget your name!"
   ]
  },
  {
   "cell_type": "markdown",
   "metadata": {},
   "source": [
    "##Part 1a:##"
   ]
  },
  {
   "cell_type": "markdown",
   "metadata": {},
   "source": [
    "Let's start with something to which we already know the answer:"
   ]
  },
  {
   "cell_type": "code",
   "execution_count": 1,
   "metadata": {
    "collapsed": true
   },
   "outputs": [],
   "source": [
    "import numpy as np\n",
    "from matplotlib import pyplot as plt\n",
    "%matplotlib inline"
   ]
  },
  {
   "cell_type": "code",
   "execution_count": 2,
   "metadata": {
    "collapsed": false
   },
   "outputs": [],
   "source": [
    "x=np.array([1,2,3])\n",
    "y=np.array([3,5,7])"
   ]
  },
  {
   "cell_type": "markdown",
   "metadata": {},
   "source": [
    "From the textbook (equations 8.10 through 8.12), we know the coefficients are \n",
    "\n",
    "$$\n",
    "A = \\frac{\\sum x^2 \\sum y - \\sum x \\sum xy}{\\Delta}\n",
    "$$\n",
    "\n",
    "\n",
    "$$\n",
    "B = \\frac{N\\sum xy - \\sum x \\sum y}{\\Delta}\n",
    "$$\n",
    "\n",
    "where $\\Delta = N\\sum x^2 - \\left( \\sum x \\right)^2$"
   ]
  },
  {
   "cell_type": "code",
   "execution_count": 3,
   "metadata": {
    "collapsed": false
   },
   "outputs": [],
   "source": [
    "#A=np.sum(x*x)*np.sum(y)-np.sum(x)*np.sum(x*y)\n",
    "#B=x.size*np.sum(x*y)-np.sum(x)*np.sum(y)\n",
    "#delta=x.size*np.sum(x*x)-(np.sum(x))**2\n"
   ]
  },
  {
   "cell_type": "code",
   "execution_count": 4,
   "metadata": {
    "collapsed": true
   },
   "outputs": [],
   "source": [
    "def findA(x,y):\n",
    "   return np.sum(x*x)*np.sum(y)-np.sum(x)*np.sum(x*y)"
   ]
  },
  {
   "cell_type": "code",
   "execution_count": 5,
   "metadata": {
    "collapsed": true
   },
   "outputs": [],
   "source": [
    "def findB(x,y):\n",
    "    return x.size*np.sum(x*y)-np.sum(x)*np.sum(y)"
   ]
  },
  {
   "cell_type": "code",
   "execution_count": 6,
   "metadata": {
    "collapsed": true
   },
   "outputs": [],
   "source": [
    "def findDelta(x):\n",
    "    return x.size*np.sum(x*x)-(np.sum(x))**2"
   ]
  },
  {
   "cell_type": "code",
   "execution_count": null,
   "metadata": {
    "collapsed": true
   },
   "outputs": [],
   "source": []
  },
  {
   "cell_type": "code",
   "execution_count": 7,
   "metadata": {
    "collapsed": false
   },
   "outputs": [],
   "source": [
    "delta=findDelta(x)\n",
    "A=findA(x,y)/delta\n",
    "B=findB(x,y)/delta"
   ]
  },
  {
   "cell_type": "code",
   "execution_count": 8,
   "metadata": {
    "collapsed": false
   },
   "outputs": [
    {
     "data": {
      "text/plain": [
       "[<matplotlib.lines.Line2D at 0x94bfc88>]"
      ]
     },
     "execution_count": 8,
     "metadata": {},
     "output_type": "execute_result"
    },
    {
     "data": {
      "image/png": "[encoded data removed]",
      "text/plain": [
       "<matplotlib.figure.Figure at 0x84a6390>"
      ]
     },
     "metadata": {},
     "output_type": "display_data"
    }
   ],
   "source": [
    "### SOMETHING MUST BE FIXED FOR THIS TO WORK CORRECTLY!\n",
    "fig,ax=plt.subplots(1,1)\n",
    "ax.set_xlim(0,4)\n",
    "ax.set_ylim(0,8)\n",
    "ax.plot(x,y,'ro')\n",
    "ax.plot(x,B*x+A)"
   ]
  },
  {
   "cell_type": "markdown",
   "metadata": {},
   "source": [
    "Hmm.  Something went wrong.  This doesn't look like a very good fit!  \n",
    "\n",
    "Fix the cell above and run it again. (Hint: $B$ isn't $b$... check the textbook again.) \n",
    "\n",
    "What is the slope of the best-fit line?  Does it make sense? \n",
    "\n",
    "This was a fun trick question.  The book gives equation 8.1\n",
    "\n",
    "$$\n",
    "y = A + Bx\n",
    "$$\n",
    "\n",
    "It also includes the warning, \"Unfortunately, many different notations are used for a linear relation; beware of confusing the form (8.1) with the equally poular $y=ax+b$.$ which is the problem we had encountered."
   ]
  },
  {
   "cell_type": "code",
   "execution_count": null,
   "metadata": {
    "collapsed": true
   },
   "outputs": [],
   "source": []
  },
  {
   "cell_type": "markdown",
   "metadata": {},
   "source": [
    "The uncertainties in the fit parameters A and B must be estimated given our best estimate for A,B, and the normal spread of y.  We need to calculate the deviations of y using eq 8.15 from our textbook\n",
    "\n",
    "$$\n",
    "\\sigma_y=\\sqrt{\\frac{1}{N-2}\\sum_{i=1}^N(y_i-A-Bxi)^2}\n",
    "$$\n",
    "\n",
    "Then using this value we can calulate the uncertainties in A and B using our book's equations 8.16 and 8.17 respectively.\n",
    "\n",
    "$$\\sigma_A=\\sigma_y\\sqrt{\\frac{\\sum x^2}{\\Delta}}$$\n",
    "\n",
    "$$\\sigma_B=\\sigma_y\\sqrt{\\frac{N}{\\Delta}}$$"
   ]
  },
  {
   "cell_type": "code",
   "execution_count": 9,
   "metadata": {
    "collapsed": false
   },
   "outputs": [],
   "source": [
    "def ySigma(x,y,A,B):\n",
    "    return np.sum((y-A-B*x)**2)/(float(len(x))-2.)"
   ]
  },
  {
   "cell_type": "code",
   "execution_count": 10,
   "metadata": {
    "collapsed": true
   },
   "outputs": [],
   "source": [
    "def ASigma(x,sigma,delta):\n",
    "    return sigma*np.sqrt(np.sum(x*x)/delta)"
   ]
  },
  {
   "cell_type": "code",
   "execution_count": 11,
   "metadata": {
    "collapsed": true
   },
   "outputs": [],
   "source": [
    "def BSigma(x,sigma,delta):\n",
    "    return sigma*np.sqrt(float(len(x))/delta)"
   ]
  },
  {
   "cell_type": "code",
   "execution_count": 12,
   "metadata": {
    "collapsed": false
   },
   "outputs": [
    {
     "name": "stdout",
     "output_type": "stream",
     "text": [
      "The uncertainty in the y values given is 0.0\n",
      "The uncertainty in the intercept A is 0.0\n",
      "The uncertainty in the slope B is 0.0\n"
     ]
    }
   ],
   "source": [
    "yUncertainty=ySigma(x,y,A,B)\n",
    "AUncertainty=ASigma(x,yUncertainty,delta)\n",
    "BUncertainty=BSigma(x,yUncertainty,delta)\n",
    "print \"The uncertainty in the y values given is \"+str(yUncertainty)\n",
    "print \"The uncertainty in the intercept A is \"+str(AUncertainty)\n",
    "print \"The uncertainty in the slope B is \"+str(BUncertainty)"
   ]
  },
  {
   "cell_type": "markdown",
   "metadata": {},
   "source": [
    "This is hardly surprising given our perfect values created for the sake of the excercise."
   ]
  },
  {
   "cell_type": "markdown",
   "metadata": {},
   "source": [
    "##Part 1b:##"
   ]
  },
  {
   "cell_type": "markdown",
   "metadata": {},
   "source": [
    "Repeat the exercise above for slightly less obvious values.  If you want to play around here, feel free!"
   ]
  },
  {
   "cell_type": "code",
   "execution_count": 13,
   "metadata": {
    "collapsed": false
   },
   "outputs": [],
   "source": [
    "x2=np.array([1,2,3])\n",
    "y2=np.array([3.1,5,7.2])\n",
    "delta2=findDelta(x2)\n",
    "A2=findA(x,y)/delta2\n",
    "B2=findB(x,y)/delta2\n",
    "yUncertainty2=ySigma(x2,y2,A2,B2)\n",
    "AUncertainty2=ASigma(x2,yUncertainty2,delta2)\n",
    "BUncertainty2=BSigma(x2,yUncertainty2,delta2)"
   ]
  },
  {
   "cell_type": "code",
   "execution_count": 14,
   "metadata": {
    "collapsed": false
   },
   "outputs": [
    {
     "name": "stdout",
     "output_type": "stream",
     "text": [
      "The uncertainty in the y values given is 0.05\n",
      "The uncertainty in the intercept A is 0.0707106781187\n",
      "The uncertainty in the slope B is 0.0353553390593\n"
     ]
    },
    {
     "data": {
      "image/png": "[encoded data removed]",
      "text/plain": [
       "<matplotlib.figure.Figure at 0x9a9d390>"
      ]
     },
     "metadata": {},
     "output_type": "display_data"
    }
   ],
   "source": [
    "fig2,ax2=plt.subplots(1,1)\n",
    "ax2.set_xlim(0,4)\n",
    "ax2.set_ylim(0,8)\n",
    "ax2.plot(x2,y2,'ro')\n",
    "ax2.plot(x2,B2*x2+A2)\n",
    "print \"The uncertainty in the y values given is \"+str(yUncertainty2)\n",
    "print \"The uncertainty in the intercept A is \"+str(AUncertainty2)\n",
    "print \"The uncertainty in the slope B is \"+str(BUncertainty2)\n"
   ]
  },
  {
   "cell_type": "markdown",
   "metadata": {},
   "source": [
    "##Part 2:##"
   ]
  },
  {
   "cell_type": "markdown",
   "metadata": {},
   "source": [
    "Now you are ready to find the best-fit value for the magnetic moment $\\mu$ of the magnet in the pool ball from the last two weeks.  Clearly indicate your data, explain the method, plot the data with the best-fit line, and report your value of $\\mu$ with uncertainty.  You will probably employ lots of cut-and-paste, but make sure that your write-up here is complete."
   ]
  },
  {
   "cell_type": "code",
   "execution_count": null,
   "metadata": {
    "collapsed": true
   },
   "outputs": [],
   "source": []
  },
  {
   "cell_type": "markdown",
   "metadata": {},
   "source": [
    "##Part 3:##"
   ]
  },
  {
   "cell_type": "markdown",
   "metadata": {},
   "source": [
    "There are, of course, functions that will do this analysis for you.  For example, check out (i.e. Google it then try it)\n",
    "\n",
    "    np.polyfit(x,y,1)\n",
    "\n",
    "on one of the parts above.  Compare and comment."
   ]
  },
  {
   "cell_type": "code",
   "execution_count": null,
   "metadata": {
    "collapsed": true
   },
   "outputs": [],
   "source": []
  }
 ],
 "metadata": {
  "kernelspec": {
   "display_name": "Python 2",
   "language": "python",
   "name": "python2"
  },
  "language_info": {
   "codemirror_mode": {
    "name": "ipython",
    "version": 2
   },
   "file_extension": ".py",
   "mimetype": "text/x-python",
   "name": "python",
   "nbconvert_exporter": "python",
   "pygments_lexer": "ipython2",
   "version": "2.7.9"
  }
 },
 "nbformat": 4,
 "nbformat_minor": 0
}
