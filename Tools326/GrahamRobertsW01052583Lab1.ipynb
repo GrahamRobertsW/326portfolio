{
 "cells": [
  {
   "cell_type": "markdown",
   "metadata": {},
   "source": [
    "#Lab 1\n",
    "###Graham Roberts"
   ]
  },
  {
   "cell_type": "markdown",
   "metadata": {},
   "source": [
    "The first measurement is the mass of the ball.\n",
    "\n",
    "$$m_{b}=141.85\\mathrm{g}$$\n",
    "\n",
    "including the uncertainy in the mass of the ball\n",
    "\n",
    "$$\\delta m_{b}=\\pm0.05\\mathrm{g}$$\n",
    "\n",
    "I used this value for the uncertainty because I could tell that the mass ,to my best estimate, using a tared triple beam balance precise to the tenth of a gram, lay between 141.80\\mathrm{g} and 141.90\\mathrm{g}.  "
   ]
  },
  {
   "cell_type": "markdown",
   "metadata": {},
   "source": [
    "the mass of the plastic sliding weight was:\n",
    "\n",
    "$$m_p=1.25\\mathrm g$$\n",
    "\n",
    "With an uncertainty of \n",
    "\n",
    "$$\\delta m_p = \\pm 0.05\\mathrm g$$\n",
    "\n",
    "For the same reason as above where it could be determined with relative confidence that the answer lay between the two values"
   ]
  },
  {
   "cell_type": "markdown",
   "metadata": {},
   "source": [
    "The diameter of the ball was:\n",
    "    \n",
    "$$D_b=53.65\\mathrm{mm}$$\n",
    "    \n",
    "with an uncertainty of:\n",
    "\n",
    "$$\\delta D_b=\\pm .05 \\mathrm{mm}$$\n",
    "\n",
    "I measured the ball from several different angles.  I rotated the ball within the calipers as well as pushed the ball through the calipers.  This allowed me to be relatively confident that I was measuring the diameter of the ball and that the ball had the same diameter throughout.  repeated measurements have led me to believe that the diameter of the ball is in this range, and I am confident in my measurement to the nearest hundredth of a milimeter."
   ]
  },
  {
   "cell_type": "markdown",
   "metadata": {},
   "source": [
    "plastic  thingie 9.57 $\\pm .01$\n",
    "diameter 53.65 $\\pm .01$\n",
    "black thing 12.48 $\\pm$ .06\n",
    "lendgth rod 90.79\n",
    "flush with end of rod distance from black thing to plastic face 50.39\n",
    "ball diameter plus black thing 65.88"
   ]
  },
  {
   "cell_type": "code",
   "execution_count": 5,
   "metadata": {
    "collapsed": true
   },
   "outputs": [],
   "source": [
    "import math"
   ]
  },
  {
   "cell_type": "code",
   "execution_count": 11,
   "metadata": {
    "collapsed": true
   },
   "outputs": [],
   "source": [
    "dBall=53.65          #diameter of ball\n",
    "dBallDel=0.01        #uncertainty in diameter of ball\n",
    "lRod=50.39           #length between the end of the black part and the face of the cyindrical weight neares the ball\n",
    "lRodDel=0.03         #uncertainty in that length\n",
    "wWeight=9.57         #width between flat faces of the cylindrical weight\n",
    "wWeightDel=0.01      #uncertainty in that width\n",
    "lBlackBall=65.88     #distance from the tip of the black protrusion to the furthest point directly across the ball\n",
    "lBlackBallDel=0.05   #uncertainty in that distance"
   ]
  },
  {
   "cell_type": "code",
   "execution_count": 2,
   "metadata": {
    "collapsed": true
   },
   "outputs": [],
   "source": [
    "#additionU\n",
    "#addition with uncertainty propogation\n",
    "#arguments:\n",
    "#   x: an addend to be added\n",
    "#xDel: the uncertainty in x\n",
    "#   y: another addend to be added\n",
    "#yDel: the uncertainty in y\n",
    "#\n",
    "#returns:\n",
    "#   s: The sum of x and y\n",
    "#sDel: the uncertainty in that sum calculated by adding the two uncertainties\n",
    "def additionU(x,xDel,y,yDel):\n",
    "    s=x+y\n",
    "    sDel=xDel+yDel\n",
    "    return s,sDel"
   ]
  },
  {
   "cell_type": "code",
   "execution_count": 3,
   "metadata": {
    "collapsed": true
   },
   "outputs": [],
   "source": [
    "#subtractionU\n",
    "#subtraction with uncertainty propogation\n",
    "#\n",
    "#arguments:\n",
    "#   x: the minuend to subtract from\n",
    "#xDel: the uncertainty in x\n",
    "#   y: the subtrahend to be subtracted\n",
    "#yDel: the uncertainty in y\n",
    "#\n",
    "#returns:\n",
    "#   d: the difference in x and y\n",
    "#dDel: the uncertainty in d\n",
    "def subtractionU(x,xDel,y,yDel):\n",
    "    d=x-y\n",
    "    dDel=xDel+yDel\n",
    "    return d, dDel"
   ]
  },
  {
   "cell_type": "code",
   "execution_count": 4,
   "metadata": {
    "collapsed": true
   },
   "outputs": [],
   "source": [
    "#multiplicationU\n",
    "#multiplication with uncertainty propogation\n",
    "#\n",
    "#argument:\n",
    "#   x: a factor to be multiplied\n",
    "#xDel: the uncertainty in x\n",
    "#   y: a factor to be multiplied\n",
    "#yDel: the uncertainty in y\n",
    "#\n",
    "#returns:\n",
    "#   p: the product of x and y\n",
    "#pdel: the uncertainty in the product\n",
    "def multiplicationU(x,xDel,y,yDel):\n",
    "    p=x*y\n",
    "    pDel=p*(float(xDel/math.fabs(x)+float(yDel/math.fabs(y))\n",
    "    return p,pDel\n"
   ]
  },
  {
   "cell_type": "code",
   "execution_count": 7,
   "metadata": {
    "collapsed": true
   },
   "outputs": [],
   "source": [
    "#divisionU\n",
    "#division with uncertainty propogation\n",
    "#\n",
    "#arguments:\n",
    "#   x: the dividend of the division\n",
    "#xDel: the uncertainty in x\n",
    "#   y: the divisor of the division\n",
    "#yDel: the uncertainty in y\n",
    "#\n",
    "#returns:\n",
    "#   q: the quotient\n",
    "#qDel: the uncertainty in q\n",
    "def divisionU(x,xDel,y,yDel):\n",
    "    q=float(x)/y\n",
    "    qDel=q*(float(xDel)/x+float(yDel)/y)\n",
    "    return q, qDel"
   ]
  },
  {
   "cell_type": "code",
   "execution_count": 15,
   "metadata": {
    "collapsed": false
   },
   "outputs": [
    {
     "name": "stdout",
     "output_type": "stream",
     "text": [
      "distance\n",
      "94.23\n",
      "Delta\n",
      "2.4475\n"
     ]
    }
   ],
   "source": [
    "distance,distanceDel=divisionU(wWeight,wWeightDel,2,0)  #the cm of the weight should be about halfway through the weight\n",
    "distanceDel=distance/2                                  #a liberal estimate of uncertainty from no knowlege about uniformity\n",
    "distance,distancedel=additionU(distance,distanceDel,lRod,lRodDel)             #adding the length of exposed rod\n",
    "distance,distanceDel=additionU(distance,distanceDel,lBlackBall,lBlackBallDel) #adding the length through the ball to the very end\n",
    "radius,radiusDel=divisionU(dBall,dBallDel,2,0)                                #calculating the radius of the ball\n",
    "distance,distanceDel=subtractionU(distance,distanceDel,radius,radiusDel)      #subtracting that radius to find distance to center\n",
    "print 'distance'\n",
    "print distance\n",
    "print 'Delta'\n",
    "print distanceDel"
   ]
  },
  {
   "cell_type": "markdown",
   "metadata": {},
   "source": [
    "The distance I settled on from the center of mass of the weight to the center of the ball is:\n",
    "\n",
    "$$D=94\\mathrm{mm}$$\n",
    "\n",
    "The uncertainty was:\n",
    "\n",
    "$$\\delta D=\\pm 2\\mathrm{mm}$$\n",
    "\n",
    "This uncertainty derives mainly from the fact that I had almost no indication as to whether the center of mass of the plastic weight was in its geometric center or not.  The uncertainties in my other calculations also propogated through, but were not tremendously sugnificant compared to the large point of confusion"
   ]
  },
  {
   "cell_type": "code",
   "execution_count": null,
   "metadata": {
    "collapsed": true
   },
   "outputs": [],
   "source": []
  }
 ],
 "metadata": {
  "kernelspec": {
   "display_name": "Python 2",
   "language": "python",
   "name": "python2"
  },
  "language_info": {
   "codemirror_mode": {
    "name": "ipython",
    "version": 2
   },
   "file_extension": ".py",
   "mimetype": "text/x-python",
   "name": "python",
   "nbconvert_exporter": "python",
   "pygments_lexer": "ipython2",
   "version": "2.7.9"
  }
 },
 "nbformat": 4,
 "nbformat_minor": 0
}
