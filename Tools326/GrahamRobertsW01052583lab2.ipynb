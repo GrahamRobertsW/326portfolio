{
 "cells": [
  {
   "cell_type": "markdown",
   "metadata": {},
   "source": [
    "#Lab 2\n",
    "###Graham Roberts\n",
    "\n",
    "|$I$|$\\delta I$|$R$|$\\delta R$|$B$|$\\delta B$|$r$|$\\delta r$|\n",
    "|--|--|--|--|--|--|--|--|\n",
    "|2.45|.05|113|1|3.3|.14|86|1.05|\n",
    "|1.85|.05|93.76|2.2|2.5|.12|67|2.25|\n",
    "|2.25|.05|107.5|.5|3.1|.14|80.7|0.55|\n"
   ]
  },
  {
   "cell_type": "code",
   "execution_count": 34,
   "metadata": {
    "collapsed": true
   },
   "outputs": [],
   "source": [
    "import math\n",
    "import numpy as np\n",
    "import matplotlib.pyplot as plt\n",
    "%matplotlib inline"
   ]
  },
  {
   "cell_type": "code",
   "execution_count": 35,
   "metadata": {
    "collapsed": false
   },
   "outputs": [],
   "source": [
    "#multiplicationU\n",
    "#multiplication with uncertainty propogation\n",
    "#\n",
    "#argument:\n",
    "#   x: a factor to be multiplied\n",
    "#xDel: the uncertainty in x\n",
    "#   y: a factor to be multiplied\n",
    "#yDel: the uncertainty in y\n",
    "#\n",
    "#returns:\n",
    "#   p: the product of x and y\n",
    "#pdel: the uncertainty in the product\n",
    "def multiplicationU(x,xDel,y,yDel):\n",
    "    p=x*y\n",
    "    pDel=p*(float(xDel/math.fabs(x)+float(yDel/math.fabs(y))))\n",
    "    return p,pDel"
   ]
  },
  {
   "cell_type": "code",
   "execution_count": 36,
   "metadata": {
    "collapsed": true
   },
   "outputs": [],
   "source": [
    "#subtractionU\n",
    "#subtraction with uncertainty propogation\n",
    "#\n",
    "#arguments:\n",
    "#   x: the minuend to subtract from\n",
    "#xDel: the uncertainty in x\n",
    "#   y: the subtrahend to be subtracted\n",
    "#yDel: the uncertainty in y\n",
    "#\n",
    "#returns:\n",
    "#   d: the difference in x and y\n",
    "#dDel: the uncertainty in d\n",
    "def subtractionU(x,xDel,y,yDel):\n",
    "    d=x-y\n",
    "    dDel=xDel+yDel\n",
    "    return d, dDel"
   ]
  },
  {
   "cell_type": "code",
   "execution_count": 37,
   "metadata": {
    "collapsed": false
   },
   "outputs": [
    {
     "name": "stdout",
     "output_type": "stream",
     "text": [
      "B\n",
      "[3.3320000000000003, 2.5160000000000005, 3.06]\n",
      "delB\n",
      "[0.14150000000000001, 0.12350000000000003, 0.13549999999999998]\n",
      "r\n",
      "[86.175, 66.935, 80.675]\n",
      "delr\n",
      "[1.05, 2.25, 0.55]\n"
     ]
    }
   ],
   "source": [
    "\n",
    "\n",
    "I=[2.45,1.85,2.25]\n",
    "delI=0.05\n",
    "R=[113.,93.76,107.5]\n",
    "delR=[1.,2.2,0.5]\n",
    "radius=53.65/2.\n",
    "delRadius=0.05\n",
    "B=[]\n",
    "delB=[]\n",
    "r=[]\n",
    "delr=[]\n",
    "for datum in I:\n",
    "    b,db=multiplicationU(datum,.05,1.36,.03)\n",
    "    B.append(b)\n",
    "    delB.append(db)\n",
    "    \n",
    "for i in range(0,len(R)):\n",
    "    lilr, delilr=subtractionU(R[i],delR[i],radius,delRadius)\n",
    "    r.append(lilr)\n",
    "    delr.append(delilr)\n",
    "    \n",
    "print\"B\"\n",
    "print B\n",
    "print 'delB'\n",
    "print delB\n",
    "print 'r'\n",
    "print r\n",
    "print 'delr'\n",
    "print delr\n"
   ]
  },
  {
   "cell_type": "code",
   "execution_count": 38,
   "metadata": {
    "collapsed": false
   },
   "outputs": [
    {
     "name": "stdout",
     "output_type": "stream",
     "text": [
      "[ 0.04186993 -0.29352064]\n",
      "[ 0.04622325 -0.55858707]\n",
      "[ 0.03795609 -0.07331088]\n",
      "0.513430033713\n",
      "0.0744431033893\n"
     ]
    },
    {
     "data": {
      "text/plain": [
       "<matplotlib.text.Text at 0xe6442e8>"
      ]
     },
     "execution_count": 38,
     "metadata": {},
     "output_type": "execute_result"
    },
    {
     "data": {
      "image/png": "[encoded data removed]",
      "text/plain": [
       "<matplotlib.figure.Figure at 0xe6f19e8>"
      ]
     },
     "metadata": {},
     "output_type": "display_data"
    }
   ],
   "source": [
    "r=np.array(r)\n",
    "B=np.array(B)\n",
    "delr=np.array(delr)\n",
    "delB=np.array(delB)\n",
    "model=np.polyfit(r,B,1)\n",
    "maxmodel=np.polyfit(r+delr,B+delB,1)\n",
    "minmodel=np.polyfit(r-delr,B-delB,1)\n",
    "print model\n",
    "print maxmodel\n",
    "print minmodel\n",
    "Slope=model[0]\n",
    "delSlope=np.max(maxmodel[0]-model[0],model[0]-minmodel[0])\n",
    "m=1.25\n",
    "delm=.05\n",
    "g=9.81\n",
    "delg=.01\n",
    "weight,delweight=multiplicationU(m,delm,g,delg)\n",
    "Moment, delMoment=multiplicationU(weight,delweight,Slope,delSlope)\n",
    "print Moment\n",
    "print delMoment\n",
    "line=np.linspace(60,90,100)\n",
    "fit=np.array([model[1]+model[0]*i for i in line])\n",
    "plt.errorbar(r,B,xerr=delr,yerr=delB,fmt='none')\n",
    "plt.plot(line,fit,'g-')\n",
    "plt.plot(line,np.array([maxmodel[1]+maxmodel[0]*i for i in line]),'k-')\n",
    "plt.plot(line,np.array([minmodel[1]+minmodel[0]*i for i in line]),'k-')\n",
    "plt.plot(r,B,'ro')\n",
    "plt.xlabel('radius from cm of ball to cm of weight [mm]')\n",
    "plt.ylabel('strength of magnetic field [T]')"
   ]
  },
  {
   "cell_type": "markdown",
   "metadata": {
    "collapsed": true
   },
   "source": [
    "I estimate that $\\mu=0.51\\pm0.07\\tfrac{\\mathrm{Nm}}{\\mathrm{T}}$. This was calculated by plotting three points, and finding a linear regression to match them.  The value $\\frac{r}{b}$ was the estimated slope of the line, with uncertainty estimated by fitting a regeression to the maximum and minimum values resepectively.  It was then multiplied by $g=9.81\\pm0.01\\tfrac{\\mathrm{m}}{\\mathrm{s^2}}$ with uncertainty to account for elevation, etc.  All multiplication and division had propogation of errors built into the functions using the fractional or additive uncertainty that we discussed in class."
   ]
  },
  {
   "cell_type": "code",
   "execution_count": null,
   "metadata": {
    "collapsed": true
   },
   "outputs": [],
   "source": []
  },
  {
   "cell_type": "code",
   "execution_count": null,
   "metadata": {
    "collapsed": true
   },
   "outputs": [],
   "source": []
  }
 ],
 "metadata": {
  "kernelspec": {
   "display_name": "Python 2",
   "language": "python",
   "name": "python2"
  },
  "language_info": {
   "codemirror_mode": {
    "name": "ipython",
    "version": 2
   },
   "file_extension": ".py",
   "mimetype": "text/x-python",
   "name": "python",
   "nbconvert_exporter": "python",
   "pygments_lexer": "ipython2",
   "version": "2.7.9"
  }
 },
 "nbformat": 4,
 "nbformat_minor": 0
}
